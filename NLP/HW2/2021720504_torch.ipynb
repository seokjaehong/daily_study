{
  "nbformat": 4,
  "nbformat_minor": 0,
  "metadata": {
    "colab": {
      "name": "2021720504_torch.ipynb",
      "provenance": [],
      "collapsed_sections": [
        "Zz8Q3e9iQroL",
        "ofHYy5NsCpwY",
        "Ighl1h68UDCB",
        "ra8NgFTOCy-p"
      ]
    },
    "kernelspec": {
      "name": "python3",
      "display_name": "Python 3"
    }
  },
  "cells": [
    {
      "cell_type": "markdown",
      "metadata": {
        "id": "1w8ew706HC5C"
      },
      "source": [
        "# 트위터 감정 분석\n",
        "\n",
        "이번 실습에서는 트위터 메시지(트윗)의 감정을 분석하는 RNN Classifier를 만들겠습니다.\n",
        "\n",
        "감정에는 긍정, 부정, 중립의 세 가지 레이블이 있습니다.\n",
        "\n",
        "이 정의에 따라 트윗에 담긴 감정을 태깅하였고 이 데이터를 통해 주어진 트윗에 감정을 분석하는 classifier를 만드는 것이 이번 실습에서의 목표입니다.\n",
        "\n",
        "이전 실습에서는 tensorflow로 작성하였다면 이번에는 또 다른 딥러닝 라이브러리인 [pytorch](https://pytorch.org/)로 작성하겠습니다.\n",
        "\n",
        "이후 딥러닝 관련 실습에서는 pytorch로 진행하겠습니다.\n",
        "\n",
        "pytorch와 tensorflow는 대동소이하여 예제로써 둘의 차이를 파악하시면 큰 어려움 없이 transfer learning을 하실 수 있으실 것입니다."
      ]
    },
    {
      "cell_type": "markdown",
      "metadata": {
        "id": "Qjj7XEd3BuDy"
      },
      "source": [
        "## 데이터 파일 다운로드\n",
        "\n",
        "데이터 파일을 다운로드 하기 위해 특수 명령어인 gdown을 사용하였습니다."
      ]
    },
    {
      "cell_type": "code",
      "metadata": {
        "id": "B3hwEF6GAiEm",
        "colab": {
          "base_uri": "https://localhost:8080/"
        },
        "outputId": "aecd2201-11d1-4049-cf82-74c2668a54d7"
      },
      "source": [
        "!gdown --id 1CElFsrPshUPyLIDk0MpkJR01cIcqNdra\n",
        "\n",
        "!gdown --id 1tll145FRmWH8pfnlOCV_mYb3MTLvxf4K\n",
        "\n",
        "!gdown --id 1WJOfcaaW_5nc0Dr573FhX5zFyC5NCp9Z"
      ],
      "execution_count": null,
      "outputs": [
        {
          "output_type": "stream",
          "name": "stdout",
          "text": [
            "/usr/local/lib/python3.7/dist-packages/gdown/cli.py:131: FutureWarning: Option `--id` was deprecated in version 4.3.1 and will be removed in 5.0. You don't need to pass it anymore to use a file ID.\n",
            "  category=FutureWarning,\n",
            "Downloading...\n",
            "From: https://drive.google.com/uc?id=1CElFsrPshUPyLIDk0MpkJR01cIcqNdra\n",
            "To: /content/vocab.csv\n",
            "100% 32.3k/32.3k [00:00<00:00, 21.3MB/s]\n",
            "/usr/local/lib/python3.7/dist-packages/gdown/cli.py:131: FutureWarning: Option `--id` was deprecated in version 4.3.1 and will be removed in 5.0. You don't need to pass it anymore to use a file ID.\n",
            "  category=FutureWarning,\n",
            "Downloading...\n",
            "From: https://drive.google.com/uc?id=1tll145FRmWH8pfnlOCV_mYb3MTLvxf4K\n",
            "To: /content/valid.csv\n",
            "100% 31.5k/31.5k [00:00<00:00, 23.1MB/s]\n",
            "/usr/local/lib/python3.7/dist-packages/gdown/cli.py:131: FutureWarning: Option `--id` was deprecated in version 4.3.1 and will be removed in 5.0. You don't need to pass it anymore to use a file ID.\n",
            "  category=FutureWarning,\n",
            "Downloading...\n",
            "From: https://drive.google.com/uc?id=1WJOfcaaW_5nc0Dr573FhX5zFyC5NCp9Z\n",
            "To: /content/train.csv\n",
            "100% 124k/124k [00:00<00:00, 39.0MB/s]\n"
          ]
        }
      ]
    },
    {
      "cell_type": "markdown",
      "metadata": {
        "id": "S03tCoPkG6vr"
      },
      "source": [
        "`train.csv` 파일을 열어보면 한 라인에 두 개의 열이 있습니다. \n",
        "\n",
        "첫 번째 열에는 트위터 메시지인 트윗이 있고 오른쪽에는 태깅된 감정이 있습니다.\n",
        "\n",
        "- 0: 부정\n",
        "- 1: 중립\n",
        "- 2: 긍정\n",
        "\n",
        "이렇게 세 가지의 감정이 태깅된 것을 알 수 있습니다."
      ]
    },
    {
      "cell_type": "code",
      "metadata": {
        "id": "xumuS251GFJO",
        "colab": {
          "base_uri": "https://localhost:8080/"
        },
        "outputId": "284cc7be-0050-491d-ce5e-a692c65256ff"
      },
      "source": [
        "with open(\"train.csv\") as csv_f:\n",
        "    head = \"\\n\".join([next(csv_f) for x in range(5)])\n",
        "print(head)"
      ],
      "execution_count": null,
      "outputs": [
        {
          "output_type": "stream",
          "name": "stdout",
          "text": [
            "critic survey ashford hospit prime ahp amp kimco realti kim,0\n",
            "\n",
            "analyst adopt bullish outlook robert half intern inc rhi,1\n",
            "\n",
            "zack rank strong buy semiconductor stock mlnx intc mchp,2\n",
            "\n",
            "setup like watch wed roku iq sfix shop spot ual goo twlo nflx xrt tsla sq bidu pypl labu biib kss kre,2\n",
            "\n",
            "invesco ivz price target lower credit suiss group,1\n",
            "\n"
          ]
        }
      ]
    },
    {
      "cell_type": "markdown",
      "metadata": {
        "id": "ZvdTJtt1CcRU"
      },
      "source": [
        "## 라이브러리 로드\n",
        "\n",
        "코드 실행에 필요한 라이브러리를 설치하고 로드합니다."
      ]
    },
    {
      "cell_type": "code",
      "metadata": {
        "id": "Rp7lkHPDvLVY",
        "colab": {
          "base_uri": "https://localhost:8080/"
        },
        "outputId": "dafdc7bd-f334-4e76-bb51-41ba08641905"
      },
      "source": [
        "!pip install -U torchtext==0.8.0"
      ],
      "execution_count": null,
      "outputs": [
        {
          "output_type": "stream",
          "name": "stdout",
          "text": [
            "Collecting torchtext==0.8.0\n",
            "  Downloading torchtext-0.8.0-cp37-cp37m-manylinux1_x86_64.whl (6.9 MB)\n",
            "\u001b[K     |████████████████████████████████| 6.9 MB 4.6 MB/s \n",
            "\u001b[?25hRequirement already satisfied: numpy in /usr/local/lib/python3.7/dist-packages (from torchtext==0.8.0) (1.21.5)\n",
            "Requirement already satisfied: torch in /usr/local/lib/python3.7/dist-packages (from torchtext==0.8.0) (1.10.0+cu111)\n",
            "Requirement already satisfied: tqdm in /usr/local/lib/python3.7/dist-packages (from torchtext==0.8.0) (4.64.0)\n",
            "Requirement already satisfied: requests in /usr/local/lib/python3.7/dist-packages (from torchtext==0.8.0) (2.23.0)\n",
            "Requirement already satisfied: chardet<4,>=3.0.2 in /usr/local/lib/python3.7/dist-packages (from requests->torchtext==0.8.0) (3.0.4)\n",
            "Requirement already satisfied: idna<3,>=2.5 in /usr/local/lib/python3.7/dist-packages (from requests->torchtext==0.8.0) (2.10)\n",
            "Requirement already satisfied: certifi>=2017.4.17 in /usr/local/lib/python3.7/dist-packages (from requests->torchtext==0.8.0) (2021.10.8)\n",
            "Requirement already satisfied: urllib3!=1.25.0,!=1.25.1,<1.26,>=1.21.1 in /usr/local/lib/python3.7/dist-packages (from requests->torchtext==0.8.0) (1.24.3)\n",
            "Requirement already satisfied: typing-extensions in /usr/local/lib/python3.7/dist-packages (from torch->torchtext==0.8.0) (4.1.1)\n",
            "Installing collected packages: torchtext\n",
            "  Attempting uninstall: torchtext\n",
            "    Found existing installation: torchtext 0.11.0\n",
            "    Uninstalling torchtext-0.11.0:\n",
            "      Successfully uninstalled torchtext-0.11.0\n",
            "Successfully installed torchtext-0.8.0\n"
          ]
        }
      ]
    },
    {
      "cell_type": "code",
      "metadata": {
        "id": "RgnaF87tCfhj"
      },
      "source": [
        "import matplotlib.pyplot as plt\n",
        "import torch\n",
        "from torchtext.data import Field, TabularDataset, BucketIterator\n",
        "import torch.nn as nn\n",
        "from torch.nn.utils.rnn import pack_padded_sequence, pad_packed_sequence\n",
        "import torch.optim\n",
        "from sklearn.metrics import classification_report\n",
        "from nltk.tokenize import word_tokenize\n",
        "import os\n",
        "import nltk\n",
        "from IPython.display import Image"
      ],
      "execution_count": null,
      "outputs": []
    },
    {
      "cell_type": "markdown",
      "metadata": {
        "id": "IlUeGHEJPZeV"
      },
      "source": [
        "## 모델 클래스 정의\n",
        "\n",
        "pytorch는 딥러닝 모델의 forward path를 정의할 때는 반드시 `nn.Module` 클래스로부터 상속을 받아 새로운 클래스로 만들어야 합니다.\n",
        "\n",
        "그리고 그 forward path를 정의하기 위해 반드시 `forward` 함수를 정의하여야 합니다.\n",
        "\n",
        "이번 실습에서는 RNN을 이용한 classifier이기에 그에 적합한 클래스를 작성하였습니다.\n",
        "\n",
        "- 문제 1. `LSTMClassifier` 클래스 내 model 구성에 있어 마지막에 classification을 위해 dense layer를 추가해주세요. \n",
        "  - 힌트 1) class의 개수는 3개입니다. \n",
        "  - 힌트 2) dense layer는 `nn.Linear`([매뉴얼 문서](https://pytorch.org/docs/stable/generated/torch.nn.Linear.html))로 만들 수 있습니다.\n",
        "  - 힌트 3) LSTM은 bidirection 즉, 양방향입니다."
      ]
    },
    {
      "cell_type": "code",
      "metadata": {
        "id": "pia7XebEPbS1"
      },
      "source": [
        "class LSTMClassifier(nn.Module):\n",
        "    # LSTM Classifier 클래스를 정의합니다. Pytorch는 모델을 구성할 때 반드시 nn.Module 클래스를 상속받은 후 이를 토대로 만듭니다.\n",
        "    def __init__(self, vocab_size, dimension=128):\n",
        "        # 클래스의 첫 시작인 함수입니다. 여기서 모델에 필요한 여러 변수들을 정의합니다.\n",
        "        super(LSTMClassifier, self).__init__()\n",
        "\n",
        "        # LSTM Classifier에 필요한 변수들을 각각 정의합니다.\n",
        "        self.embedding = nn.Embedding(vocab_size, 300)\n",
        "        self.dimension = dimension\n",
        "        self.lstm = nn.LSTM(input_size=300, hidden_size=dimension, num_layers=1, batch_first=True, bidirectional=True) ## LSTM 모델 생성\n",
        "        self.drop = nn.Dropout(p=0.5)\n",
        "\n",
        "        self.fc = nn.Linear(2*dimension, 3)\n",
        "\n",
        "    def forward(self, text, text_len):\n",
        "        # 모델의 forward feed를 수행하는 함수입니다.\n",
        "        # text와 text_len 변수를 입력으로 받아 신경망 모델을 forward 방향으로 탈 때 그 출력을 반환합니다.\n",
        "        # 단어 => encoder => Embedding => 양방향 RNN => Dense => Dense의 구조입니다.\n",
        "        text_emb = self.embedding(text)\n",
        "\n",
        "        # 글마다 길이가 다르기에 이를 하나의 batch에서 사용하고자 pack_padded_sequence 함수를 통해 padding을 수행합니다.\n",
        "        packed_input = pack_padded_sequence(text_emb, text_len.cpu(), batch_first=True, enforce_sorted=False)\n",
        "        packed_output, _ = self.lstm(packed_input)\n",
        "        output, _ = pad_packed_sequence(packed_output, batch_first=True)\n",
        "\n",
        "        out_forward = output[range(len(output)), text_len - 1, :self.dimension]\n",
        "        out_reverse = output[:, 0, self.dimension:]\n",
        "        out_reduced = torch.cat((out_forward, out_reverse), 1)\n",
        "        text_fea = self.drop(out_reduced)\n",
        "\n",
        "        # <ToDo>: model의 마지막에 classification을 위해 dense layer를 추가해주세요.\n",
        "        text_out = self.fc(text_fea)\n",
        "\n",
        "        return text_out"
      ],
      "execution_count": null,
      "outputs": []
    },
    {
      "cell_type": "markdown",
      "metadata": {
        "id": "4ZhhZRkJChKT"
      },
      "source": [
        "## train 함수\n",
        "\n",
        "해당 함수에서는 정의된 `model` 클래스의 인스턴스를 가져와서 이를 train data로 학습시킵니다. 그리고 validation data로 학습 중간에 성능을 평가합니다."
      ]
    },
    {
      "cell_type": "code",
      "metadata": {
        "id": "hYucrg5wCjyA"
      },
      "source": [
        "#from tensorflow.keras.callbacks import EarlyStopping\n",
        "#early_stopping = EarlyStopping()\n",
        "\n",
        "def train(model, device, optimizer, train_loader, valid_loader, output_file_path, num_epochs):\n",
        "    # 학습에 필요한 변수들을 기본적으로 정의합니다.\n",
        "    running_loss = 0.0\n",
        "    global_step = 0\n",
        "    train_loss_list = list()\n",
        "    valid_loss_list = list()\n",
        "    global_steps_list = list()\n",
        "    loss_fn = nn.CrossEntropyLoss()\n",
        "    best_valid_loss = float(\"Inf\")\n",
        "    eval_every = 10\n",
        "\n",
        "    # model에게 학습이 진행됨을 알려줍니다.\n",
        "    model.train()\n",
        "    # num_epochs만큼 epoch을 반복합니다.\n",
        "    for epoch in range(num_epochs):\n",
        "        # train_loader를 읽으면 정해진 데이터를 읽어옵니다.\n",
        "        for ((text, text_len), labels), _ in train_loader:\n",
        "            # 데이터를 GPU로 옮깁니다.\n",
        "            text = text.to(device)\n",
        "            text_len = text_len.to(device)\n",
        "            labels = labels.to(device)\n",
        "            \n",
        "            # model을 함수처럼 호출하면 model에서 정의한 forward 함수가 실행됩니다.\n",
        "            # 즉, 데이터를 모델에 집어넣어 forward방향으로 흐른 후 그 결과를 받습니다.\n",
        "            output = model(text, text_len)\n",
        "\n",
        "            # forward 결과와 실제 데이터 결과의 차이를 정의한 loss 함수로 구합니다.\n",
        "            loss = loss_fn(output, labels)\n",
        "\n",
        "            # 최적화 수행\n",
        "            optimizer.zero_grad()\n",
        "            loss.backward()\n",
        "            optimizer.step()\n",
        "\n",
        "            running_loss += loss.item()\n",
        "            global_step += 1\n",
        "\n",
        "            if global_step % eval_every == 0:\n",
        "                # 100번에 한 번으로 validation 데이터를 이용하여 성능을 검증합니다.\n",
        "                average_train_loss, average_valid_loss = evaluate(model, device, valid_loader, loss_fn,\n",
        "                                                                  running_loss, eval_every)\n",
        "                \n",
        "                # 검증이 끝난 후 다시 모델에게 학습을 준비시킵니다.\n",
        "                running_loss = 0.0\n",
        "                model.train()\n",
        "\n",
        "                # 결과 출력\n",
        "                print('Epoch {}, Step {}, Train Loss: {:.4f}, Valid Loss: {:.4f}'\n",
        "                      .format(epoch + 1, global_step, average_train_loss, average_valid_loss))\n",
        "\n",
        "                # 결과 저장\n",
        "                train_loss_list.append(average_train_loss)\n",
        "                valid_loss_list.append(average_valid_loss)\n",
        "                global_steps_list.append(global_step)\n",
        "\n",
        "                # 만약 기존 것보다 성능이 높게 나왔다면 현재 모델 상태를 저장합니다.\n",
        "                if best_valid_loss > average_valid_loss:\n",
        "                    best_valid_loss = average_valid_loss\n",
        "                    save_checkpoint(output_file_path + '/model.pt', model, optimizer, best_valid_loss)\n",
        "                    save_metrics(output_file_path + '/metrics.pt', train_loss_list, valid_loss_list, global_steps_list)\n",
        "\n",
        "    # 결과를 저장합니다.\n",
        "    save_metrics(output_file_path + '/metrics.pt', train_loss_list, valid_loss_list, global_steps_list)"
      ],
      "execution_count": null,
      "outputs": []
    },
    {
      "cell_type": "markdown",
      "metadata": {
        "id": "Zz8Q3e9iQroL"
      },
      "source": [
        "## evaluate 함수\n",
        "\n",
        "해당 함수에서는 validation data를 이용하여 학습된 `model`을 평가합니다."
      ]
    },
    {
      "cell_type": "code",
      "metadata": {
        "id": "5PcidZwmQuFu"
      },
      "source": [
        "def evaluate(model, device, valid_loader, loss_fn, running_loss, eval_every):\n",
        "    # 학습 중 모델을 평가합니다.\n",
        "    # 모델에게 학습이 아닌 평가를 할 것이라고 알립니다.\n",
        "    model.eval()\n",
        "    valid_running_loss = 0.\n",
        "\n",
        "    # 학습이 아니기에 최적화를 하지 않는다는 환경을 설정합니다.\n",
        "    with torch.no_grad():\n",
        "        # validation 데이터를 읽습니다.\n",
        "        for ((text, text_len), labels), _ in valid_loader:\n",
        "            labels = labels.to(device)\n",
        "            text = text.to(device)\n",
        "            text_len = text_len.to(device)\n",
        "            \n",
        "            # model을 함수처럼 호출하면 model에서 정의한 forward 함수가 실행됩니다.\n",
        "            # 즉, 데이터를 모델에 집어넣어 forward방향으로 흐른 후 그 결과를 받습니다.\n",
        "            output = model(text, text_len)\n",
        "\n",
        "            # validation 데이터의 loss, 즉 모델의 출력과 실제 데이터의 차이를 구합니다.\n",
        "            loss = loss_fn(output, labels)\n",
        "            valid_running_loss += loss.item()\n",
        "\n",
        "    # 평균 loss를 계산합니다.\n",
        "    average_train_loss = running_loss / eval_every\n",
        "    average_valid_loss = valid_running_loss / len(valid_loader)\n",
        "\n",
        "    return average_train_loss, average_valid_loss"
      ],
      "execution_count": null,
      "outputs": []
    },
    {
      "cell_type": "markdown",
      "metadata": {
        "id": "ofHYy5NsCpwY"
      },
      "source": [
        "## 그래프 그리는 함수\n",
        "\n",
        "epoch에 따른 train loss와 validation loss 그래프를 그립니다."
      ]
    },
    {
      "cell_type": "code",
      "metadata": {
        "id": "uTXXPgoLCpiC"
      },
      "source": [
        "def draw_graph(output_file_path, device):\n",
        "    train_loss_list, valid_loss_list, global_steps_list = load_metrics(output_file_path + '/metrics.pt', device)\n",
        "    plt.plot(global_steps_list, train_loss_list, label='Train')\n",
        "    plt.plot(global_steps_list, valid_loss_list, label='Valid')\n",
        "    plt.xlabel('Global Steps')\n",
        "    plt.ylabel('Loss')\n",
        "    plt.legend()\n",
        "    plt.savefig(\"train_valid_loss.png\", bbox_inches='tight')\n",
        "\n",
        "    Image('train_valid_loss.png')"
      ],
      "execution_count": null,
      "outputs": []
    },
    {
      "cell_type": "markdown",
      "metadata": {
        "id": "Ighl1h68UDCB"
      },
      "source": [
        "## 모델 및 기록 저장 불러오기"
      ]
    },
    {
      "cell_type": "code",
      "metadata": {
        "id": "wcpFZHyVUFr8"
      },
      "source": [
        "def save_checkpoint(save_path, model, optimizer, valid_loss):\n",
        "    state_dict = {'model_state_dict': model.state_dict(),\n",
        "                  'optimizer_state_dict': optimizer.state_dict(),\n",
        "                  'valid_loss': valid_loss}\n",
        "\n",
        "    torch.save(state_dict, save_path)\n",
        "\n",
        "\n",
        "def load_checkpoint(load_path, model, optimizer, device):\n",
        "    state_dict = torch.load(load_path, map_location=device)\n",
        "\n",
        "    model.load_state_dict(state_dict['model_state_dict'])\n",
        "    optimizer.load_state_dict(state_dict['optimizer_state_dict'])\n",
        "\n",
        "    return state_dict['valid_loss']\n",
        "\n",
        "\n",
        "def save_metrics(save_path, train_loss_list, valid_loss_list, global_steps_list):\n",
        "    state_dict = {'train_loss_list': train_loss_list,\n",
        "                  'valid_loss_list': valid_loss_list,\n",
        "                  'global_steps_list': global_steps_list}\n",
        "\n",
        "    torch.save(state_dict, save_path)\n",
        "\n",
        "\n",
        "def load_metrics(load_path, device):\n",
        "    state_dict = torch.load(load_path, map_location=device)\n",
        "\n",
        "    return state_dict['train_loss_list'], state_dict['valid_loss_list'], state_dict['global_steps_list']"
      ],
      "execution_count": null,
      "outputs": []
    },
    {
      "cell_type": "markdown",
      "metadata": {
        "id": "ra8NgFTOCy-p"
      },
      "source": [
        "## 데이터 불러오기\n",
        "\n",
        "- 문제 2. `valid_loader`를 불러오세요. 힌트) `train_loader`을 참고하세요."
      ]
    },
    {
      "cell_type": "code",
      "metadata": {
        "id": "9Jy8JWuPCyvC",
        "colab": {
          "base_uri": "https://localhost:8080/"
        },
        "outputId": "c222af4e-9289-4b79-fd49-2ee9b2fca7b9"
      },
      "source": [
        "# nltk의 토크나이저를 사용하기에 이를 다운로드 받습니다.\n",
        "nltk.download('punkt')\n",
        "\n",
        "# 데이터의 기본 형태에 대한 정보입니다.\n",
        "output_file_path=\"./model/\"\n",
        "os.makedirs(output_file_path, exist_ok=True)\n",
        "device = torch.device('cuda:0' if torch.cuda.is_available() else 'cpu')\n",
        "\n",
        "label_field = Field(sequential=False, use_vocab=False, batch_first=True, dtype=torch.long)\n",
        "text_field = Field(tokenize=word_tokenize, lower=True, include_lengths=True, batch_first=True)\n",
        "fields = [('text', text_field), ('labels', label_field)]\n",
        "\n",
        "# train, validation 데이터 csv 파일을 읽어옵니다.\n",
        "train_data, valid_data = TabularDataset.splits(path=\"./\", train='train.csv', validation='valid.csv',\n",
        "                                               format='CSV', fields=fields, skip_header=True)\n",
        "train_loader = BucketIterator(train_data, batch_size=32, sort_key=lambda x: len(x.text),\n",
        "                              device=device, sort=True, sort_within_batch=True)\n",
        "\n",
        "# <ToDo>: valid_dataset을 불러오세요.\n",
        "# valid_loader = None # Problem 2\n",
        "valid_loader = BucketIterator(valid_data, batch_size=32, sort_key=lambda x: len(x.text),\n",
        "                              device=device, sort=True, sort_within_batch=True)\n",
        "\n",
        "text_field.build_vocab(train_data, min_freq=3)\n",
        "vocab_size = len(text_field.vocab)"
      ],
      "execution_count": null,
      "outputs": [
        {
          "output_type": "stream",
          "name": "stdout",
          "text": [
            "[nltk_data] Downloading package punkt to /root/nltk_data...\n",
            "[nltk_data]   Unzipping tokenizers/punkt.zip.\n"
          ]
        },
        {
          "output_type": "stream",
          "name": "stderr",
          "text": [
            "/usr/local/lib/python3.7/dist-packages/torchtext/data/field.py:150: UserWarning: Field class will be retired soon and moved to torchtext.legacy. Please see the most recent release notes for further information.\n",
            "  warnings.warn('{} class will be retired soon and moved to torchtext.legacy. Please see the most recent release notes for further information.'.format(self.__class__.__name__), UserWarning)\n",
            "/usr/local/lib/python3.7/dist-packages/torchtext/data/example.py:68: UserWarning: Example class will be retired soon and moved to torchtext.legacy. Please see the most recent release notes for further information.\n",
            "  warnings.warn('Example class will be retired soon and moved to torchtext.legacy. Please see the most recent release notes for further information.', UserWarning)\n",
            "/usr/local/lib/python3.7/dist-packages/torchtext/data/example.py:78: UserWarning: Example class will be retired soon and moved to torchtext.legacy. Please see the most recent release notes for further information.\n",
            "  warnings.warn('Example class will be retired soon and moved to torchtext.legacy. Please see the most recent release notes for further information.', UserWarning)\n",
            "/usr/local/lib/python3.7/dist-packages/torchtext/data/iterator.py:48: UserWarning: BucketIterator class will be retired soon and moved to torchtext.legacy. Please see the most recent release notes for further information.\n",
            "  warnings.warn('{} class will be retired soon and moved to torchtext.legacy. Please see the most recent release notes for further information.'.format(self.__class__.__name__), UserWarning)\n"
          ]
        }
      ]
    },
    {
      "cell_type": "code",
      "source": [
        "vocab_size"
      ],
      "metadata": {
        "colab": {
          "base_uri": "https://localhost:8080/"
        },
        "id": "bhYDMPM7A4iy",
        "outputId": "76f9bc83-f64d-45d8-ef26-b743d3e88b10"
      },
      "execution_count": null,
      "outputs": [
        {
          "output_type": "execute_result",
          "data": {
            "text/plain": [
              "1658"
            ]
          },
          "metadata": {},
          "execution_count": 13
        }
      ]
    },
    {
      "cell_type": "markdown",
      "metadata": {
        "id": "RNlcKZKoDDEq"
      },
      "source": [
        "## 모델 학습\n",
        "\n",
        "- 문제 3. `train` 함수를 이용하여 train data를 통해 모델 학습을 진행하세요."
      ]
    },
    {
      "cell_type": "code",
      "metadata": {
        "id": "BpjT1fyTDF15",
        "colab": {
          "base_uri": "https://localhost:8080/"
        },
        "outputId": "ab4e3025-444d-449a-e5d0-e68308387dfd"
      },
      "source": [
        "# 앞서 정의한 LSTMClassifier 클래스의 인스턴스를 만듭니다.\n",
        "model = LSTMClassifier(vocab_size).to(device)\n",
        "# Adam optimizier를 사용합니다.\n",
        "optimizer = torch.optim.Adam(model.parameters(), lr=0.001)\n",
        "\n",
        "# <ToDo>: 학습을 위해 train 함수의 적절한 parameter를 전달해주세요.\n",
        "# train(None)  # Problem 3\n",
        "# (model, device, optimizer, train_loader, valid_loader, output_file_path, num_epochs):\n",
        "train(model, device,optimizer,train_loader,valid_loader,output_file_path,30)\n"
      ],
      "execution_count": null,
      "outputs": [
        {
          "output_type": "stream",
          "name": "stderr",
          "text": [
            "/usr/local/lib/python3.7/dist-packages/torchtext/data/batch.py:23: UserWarning: Batch class will be retired soon and moved to torchtext.legacy. Please see the most recent release notes for further information.\n",
            "  warnings.warn('{} class will be retired soon and moved to torchtext.legacy. Please see the most recent release notes for further information.'.format(self.__class__.__name__), UserWarning)\n"
          ]
        },
        {
          "output_type": "stream",
          "name": "stdout",
          "text": [
            "Epoch 1, Step 10, Train Loss: 0.9508, Valid Loss: 0.9524\n",
            "Epoch 1, Step 20, Train Loss: 0.8410, Valid Loss: 0.9666\n",
            "Epoch 1, Step 30, Train Loss: 0.9671, Valid Loss: 0.8375\n",
            "Epoch 1, Step 40, Train Loss: 0.9428, Valid Loss: 0.7998\n",
            "Epoch 1, Step 50, Train Loss: 0.8815, Valid Loss: 0.8243\n",
            "Epoch 1, Step 60, Train Loss: 0.9545, Valid Loss: 0.7702\n",
            "Epoch 2, Step 70, Train Loss: 0.6226, Valid Loss: 0.7241\n",
            "Epoch 2, Step 80, Train Loss: 0.5151, Valid Loss: 0.7603\n",
            "Epoch 2, Step 90, Train Loss: 0.6687, Valid Loss: 0.7292\n",
            "Epoch 2, Step 100, Train Loss: 0.6268, Valid Loss: 0.6530\n",
            "Epoch 2, Step 110, Train Loss: 0.6398, Valid Loss: 0.6760\n",
            "Epoch 2, Step 120, Train Loss: 0.7527, Valid Loss: 0.6669\n",
            "Epoch 3, Step 130, Train Loss: 0.4977, Valid Loss: 0.5718\n",
            "Epoch 3, Step 140, Train Loss: 0.3056, Valid Loss: 0.6049\n",
            "Epoch 3, Step 150, Train Loss: 0.3532, Valid Loss: 0.6110\n",
            "Epoch 3, Step 160, Train Loss: 0.3176, Valid Loss: 0.5334\n",
            "Epoch 3, Step 170, Train Loss: 0.3656, Valid Loss: 0.5466\n",
            "Epoch 3, Step 180, Train Loss: 0.4230, Valid Loss: 0.5365\n",
            "Epoch 4, Step 190, Train Loss: 0.4070, Valid Loss: 0.5421\n",
            "Epoch 4, Step 200, Train Loss: 0.1906, Valid Loss: 0.5046\n",
            "Epoch 4, Step 210, Train Loss: 0.1819, Valid Loss: 0.6716\n",
            "Epoch 4, Step 220, Train Loss: 0.1426, Valid Loss: 0.5366\n",
            "Epoch 4, Step 230, Train Loss: 0.1710, Valid Loss: 0.4881\n",
            "Epoch 4, Step 240, Train Loss: 0.1706, Valid Loss: 0.5521\n",
            "Epoch 4, Step 250, Train Loss: 0.2215, Valid Loss: 0.4918\n",
            "Epoch 5, Step 260, Train Loss: 0.1011, Valid Loss: 0.5288\n",
            "Epoch 5, Step 270, Train Loss: 0.1039, Valid Loss: 0.5245\n",
            "Epoch 5, Step 280, Train Loss: 0.0699, Valid Loss: 0.7101\n",
            "Epoch 5, Step 290, Train Loss: 0.0984, Valid Loss: 0.5448\n",
            "Epoch 5, Step 300, Train Loss: 0.0699, Valid Loss: 0.5600\n",
            "Epoch 5, Step 310, Train Loss: 0.0927, Valid Loss: 0.5309\n",
            "Epoch 6, Step 320, Train Loss: 0.0816, Valid Loss: 0.5147\n",
            "Epoch 6, Step 330, Train Loss: 0.0710, Valid Loss: 0.5089\n",
            "Epoch 6, Step 340, Train Loss: 0.0411, Valid Loss: 0.5230\n",
            "Epoch 6, Step 350, Train Loss: 0.0499, Valid Loss: 0.6203\n",
            "Epoch 6, Step 360, Train Loss: 0.0650, Valid Loss: 0.5102\n",
            "Epoch 6, Step 370, Train Loss: 0.0695, Valid Loss: 0.5941\n",
            "Epoch 7, Step 380, Train Loss: 0.0652, Valid Loss: 0.6152\n",
            "Epoch 7, Step 390, Train Loss: 0.0334, Valid Loss: 0.8098\n",
            "Epoch 7, Step 400, Train Loss: 0.0330, Valid Loss: 0.7518\n",
            "Epoch 7, Step 410, Train Loss: 0.0326, Valid Loss: 0.7433\n",
            "Epoch 7, Step 420, Train Loss: 0.0294, Valid Loss: 0.6637\n",
            "Epoch 7, Step 430, Train Loss: 0.0563, Valid Loss: 0.5808\n",
            "Epoch 7, Step 440, Train Loss: 0.0773, Valid Loss: 0.6860\n",
            "Epoch 8, Step 450, Train Loss: 0.0391, Valid Loss: 0.5894\n",
            "Epoch 8, Step 460, Train Loss: 0.0406, Valid Loss: 0.5592\n",
            "Epoch 8, Step 470, Train Loss: 0.0163, Valid Loss: 0.6281\n",
            "Epoch 8, Step 480, Train Loss: 0.0171, Valid Loss: 0.6839\n",
            "Epoch 8, Step 490, Train Loss: 0.0239, Valid Loss: 0.6089\n",
            "Epoch 8, Step 500, Train Loss: 0.0359, Valid Loss: 0.6053\n",
            "Epoch 9, Step 510, Train Loss: 0.0269, Valid Loss: 0.7444\n",
            "Epoch 9, Step 520, Train Loss: 0.0271, Valid Loss: 0.7257\n",
            "Epoch 9, Step 530, Train Loss: 0.0175, Valid Loss: 0.6397\n",
            "Epoch 9, Step 540, Train Loss: 0.0262, Valid Loss: 0.6514\n",
            "Epoch 9, Step 550, Train Loss: 0.0069, Valid Loss: 0.6958\n",
            "Epoch 9, Step 560, Train Loss: 0.0206, Valid Loss: 0.6461\n",
            "Epoch 10, Step 570, Train Loss: 0.0123, Valid Loss: 0.6558\n",
            "Epoch 10, Step 580, Train Loss: 0.0061, Valid Loss: 0.7018\n",
            "Epoch 10, Step 590, Train Loss: 0.0065, Valid Loss: 0.7298\n",
            "Epoch 10, Step 600, Train Loss: 0.0091, Valid Loss: 0.7086\n",
            "Epoch 10, Step 610, Train Loss: 0.0106, Valid Loss: 0.6926\n",
            "Epoch 10, Step 620, Train Loss: 0.0026, Valid Loss: 0.7144\n",
            "Epoch 10, Step 630, Train Loss: 0.0066, Valid Loss: 0.7066\n",
            "Epoch 11, Step 640, Train Loss: 0.0040, Valid Loss: 0.6934\n",
            "Epoch 11, Step 650, Train Loss: 0.0027, Valid Loss: 0.6953\n",
            "Epoch 11, Step 660, Train Loss: 0.0033, Valid Loss: 0.7012\n",
            "Epoch 11, Step 670, Train Loss: 0.0023, Valid Loss: 0.7075\n",
            "Epoch 11, Step 680, Train Loss: 0.0027, Valid Loss: 0.7190\n",
            "Epoch 11, Step 690, Train Loss: 0.0038, Valid Loss: 0.7283\n",
            "Epoch 12, Step 700, Train Loss: 0.0045, Valid Loss: 0.7308\n",
            "Epoch 12, Step 710, Train Loss: 0.0024, Valid Loss: 0.7362\n",
            "Epoch 12, Step 720, Train Loss: 0.0020, Valid Loss: 0.7405\n",
            "Epoch 12, Step 730, Train Loss: 0.0021, Valid Loss: 0.7492\n",
            "Epoch 12, Step 740, Train Loss: 0.0015, Valid Loss: 0.7593\n",
            "Epoch 12, Step 750, Train Loss: 0.0017, Valid Loss: 0.7665\n",
            "Epoch 13, Step 760, Train Loss: 0.0024, Valid Loss: 0.7498\n",
            "Epoch 13, Step 770, Train Loss: 0.0017, Valid Loss: 0.7468\n",
            "Epoch 13, Step 780, Train Loss: 0.0015, Valid Loss: 0.7524\n",
            "Epoch 13, Step 790, Train Loss: 0.0014, Valid Loss: 0.7581\n",
            "Epoch 13, Step 800, Train Loss: 0.0017, Valid Loss: 0.7662\n",
            "Epoch 13, Step 810, Train Loss: 0.0010, Valid Loss: 0.7733\n",
            "Epoch 14, Step 820, Train Loss: 0.0012, Valid Loss: 0.7801\n",
            "Epoch 14, Step 830, Train Loss: 0.0013, Valid Loss: 0.7877\n",
            "Epoch 14, Step 840, Train Loss: 0.0019, Valid Loss: 0.7938\n",
            "Epoch 14, Step 850, Train Loss: 0.0008, Valid Loss: 0.7947\n",
            "Epoch 14, Step 860, Train Loss: 0.0007, Valid Loss: 0.7978\n",
            "Epoch 14, Step 870, Train Loss: 0.0014, Valid Loss: 0.8012\n",
            "Epoch 14, Step 880, Train Loss: 0.0008, Valid Loss: 0.8028\n",
            "Epoch 15, Step 890, Train Loss: 0.0015, Valid Loss: 0.8068\n",
            "Epoch 15, Step 900, Train Loss: 0.0016, Valid Loss: 0.8120\n",
            "Epoch 15, Step 910, Train Loss: 0.0011, Valid Loss: 0.8140\n",
            "Epoch 15, Step 920, Train Loss: 0.0010, Valid Loss: 0.8159\n",
            "Epoch 15, Step 930, Train Loss: 0.0006, Valid Loss: 0.8193\n",
            "Epoch 15, Step 940, Train Loss: 0.0009, Valid Loss: 0.8220\n",
            "Epoch 16, Step 950, Train Loss: 0.0010, Valid Loss: 0.8242\n",
            "Epoch 16, Step 960, Train Loss: 0.0011, Valid Loss: 0.8261\n",
            "Epoch 16, Step 970, Train Loss: 0.0007, Valid Loss: 0.8293\n",
            "Epoch 16, Step 980, Train Loss: 0.0006, Valid Loss: 0.8324\n",
            "Epoch 16, Step 990, Train Loss: 0.0006, Valid Loss: 0.8363\n",
            "Epoch 16, Step 1000, Train Loss: 0.0007, Valid Loss: 0.8406\n",
            "Epoch 17, Step 1010, Train Loss: 0.0006, Valid Loss: 0.8441\n",
            "Epoch 17, Step 1020, Train Loss: 0.0009, Valid Loss: 0.8492\n",
            "Epoch 17, Step 1030, Train Loss: 0.0006, Valid Loss: 0.8548\n",
            "Epoch 17, Step 1040, Train Loss: 0.0006, Valid Loss: 0.8571\n",
            "Epoch 17, Step 1050, Train Loss: 0.0008, Valid Loss: 0.8589\n",
            "Epoch 17, Step 1060, Train Loss: 0.0006, Valid Loss: 0.8616\n",
            "Epoch 17, Step 1070, Train Loss: 0.0005, Valid Loss: 0.8632\n",
            "Epoch 18, Step 1080, Train Loss: 0.0009, Valid Loss: 0.8677\n",
            "Epoch 18, Step 1090, Train Loss: 0.0005, Valid Loss: 0.8724\n",
            "Epoch 18, Step 1100, Train Loss: 0.0006, Valid Loss: 0.8720\n",
            "Epoch 18, Step 1110, Train Loss: 0.0007, Valid Loss: 0.8706\n",
            "Epoch 18, Step 1120, Train Loss: 0.0003, Valid Loss: 0.8728\n",
            "Epoch 18, Step 1130, Train Loss: 0.0004, Valid Loss: 0.8757\n",
            "Epoch 19, Step 1140, Train Loss: 0.0006, Valid Loss: 0.8834\n",
            "Epoch 19, Step 1150, Train Loss: 0.0010, Valid Loss: 0.8921\n",
            "Epoch 19, Step 1160, Train Loss: 0.0003, Valid Loss: 0.8958\n",
            "Epoch 19, Step 1170, Train Loss: 0.0003, Valid Loss: 0.8975\n",
            "Epoch 19, Step 1180, Train Loss: 0.0004, Valid Loss: 0.8993\n",
            "Epoch 19, Step 1190, Train Loss: 0.0005, Valid Loss: 0.8969\n",
            "Epoch 20, Step 1200, Train Loss: 0.0004, Valid Loss: 0.8910\n",
            "Epoch 20, Step 1210, Train Loss: 0.0008, Valid Loss: 0.8931\n",
            "Epoch 20, Step 1220, Train Loss: 0.0005, Valid Loss: 0.8989\n",
            "Epoch 20, Step 1230, Train Loss: 0.0008, Valid Loss: 0.9060\n",
            "Epoch 20, Step 1240, Train Loss: 0.0004, Valid Loss: 0.9108\n",
            "Epoch 20, Step 1250, Train Loss: 0.0003, Valid Loss: 0.9149\n",
            "Epoch 20, Step 1260, Train Loss: 0.0004, Valid Loss: 0.9156\n",
            "Epoch 21, Step 1270, Train Loss: 0.0006, Valid Loss: 0.9134\n",
            "Epoch 21, Step 1280, Train Loss: 0.0003, Valid Loss: 0.9141\n",
            "Epoch 21, Step 1290, Train Loss: 0.0004, Valid Loss: 0.9133\n",
            "Epoch 21, Step 1300, Train Loss: 0.0005, Valid Loss: 0.9096\n",
            "Epoch 21, Step 1310, Train Loss: 0.0003, Valid Loss: 0.9103\n",
            "Epoch 21, Step 1320, Train Loss: 0.0002, Valid Loss: 0.9137\n",
            "Epoch 22, Step 1330, Train Loss: 0.0005, Valid Loss: 0.9207\n",
            "Epoch 22, Step 1340, Train Loss: 0.0004, Valid Loss: 0.9281\n",
            "Epoch 22, Step 1350, Train Loss: 0.0003, Valid Loss: 0.9327\n",
            "Epoch 22, Step 1360, Train Loss: 0.0004, Valid Loss: 0.9355\n",
            "Epoch 22, Step 1370, Train Loss: 0.0002, Valid Loss: 0.9358\n",
            "Epoch 22, Step 1380, Train Loss: 0.0003, Valid Loss: 0.9387\n",
            "Epoch 23, Step 1390, Train Loss: 0.0004, Valid Loss: 0.9399\n",
            "Epoch 23, Step 1400, Train Loss: 0.0004, Valid Loss: 0.9415\n",
            "Epoch 23, Step 1410, Train Loss: 0.0004, Valid Loss: 0.9430\n",
            "Epoch 23, Step 1420, Train Loss: 0.0004, Valid Loss: 0.9492\n",
            "Epoch 23, Step 1430, Train Loss: 0.0002, Valid Loss: 0.9526\n",
            "Epoch 23, Step 1440, Train Loss: 0.0002, Valid Loss: 0.9542\n",
            "Epoch 24, Step 1450, Train Loss: 0.0003, Valid Loss: 0.9565\n",
            "Epoch 24, Step 1460, Train Loss: 0.0005, Valid Loss: 0.9600\n",
            "Epoch 24, Step 1470, Train Loss: 0.0004, Valid Loss: 0.9644\n",
            "Epoch 24, Step 1480, Train Loss: 0.0002, Valid Loss: 0.9643\n",
            "Epoch 24, Step 1490, Train Loss: 0.0002, Valid Loss: 0.9633\n",
            "Epoch 24, Step 1500, Train Loss: 0.0002, Valid Loss: 0.9635\n",
            "Epoch 24, Step 1510, Train Loss: 0.0002, Valid Loss: 0.9649\n",
            "Epoch 25, Step 1520, Train Loss: 0.0003, Valid Loss: 0.9686\n",
            "Epoch 25, Step 1530, Train Loss: 0.0004, Valid Loss: 0.9722\n",
            "Epoch 25, Step 1540, Train Loss: 0.0003, Valid Loss: 0.9739\n",
            "Epoch 25, Step 1550, Train Loss: 0.0002, Valid Loss: 0.9753\n",
            "Epoch 25, Step 1560, Train Loss: 0.0001, Valid Loss: 0.9771\n",
            "Epoch 25, Step 1570, Train Loss: 0.0002, Valid Loss: 0.9781\n",
            "Epoch 26, Step 1580, Train Loss: 0.0003, Valid Loss: 0.9820\n",
            "Epoch 26, Step 1590, Train Loss: 0.0002, Valid Loss: 0.9855\n",
            "Epoch 26, Step 1600, Train Loss: 0.0002, Valid Loss: 0.9856\n",
            "Epoch 26, Step 1610, Train Loss: 0.0002, Valid Loss: 0.9853\n",
            "Epoch 26, Step 1620, Train Loss: 0.0002, Valid Loss: 0.9869\n",
            "Epoch 26, Step 1630, Train Loss: 0.0002, Valid Loss: 0.9881\n",
            "Epoch 27, Step 1640, Train Loss: 0.0003, Valid Loss: 0.9906\n",
            "Epoch 27, Step 1650, Train Loss: 0.0003, Valid Loss: 0.9933\n",
            "Epoch 27, Step 1660, Train Loss: 0.0002, Valid Loss: 0.9959\n",
            "Epoch 27, Step 1670, Train Loss: 0.0001, Valid Loss: 0.9969\n",
            "Epoch 27, Step 1680, Train Loss: 0.0001, Valid Loss: 0.9985\n",
            "Epoch 27, Step 1690, Train Loss: 0.0002, Valid Loss: 1.0008\n",
            "Epoch 27, Step 1700, Train Loss: 0.0002, Valid Loss: 0.9991\n",
            "Epoch 28, Step 1710, Train Loss: 0.0003, Valid Loss: 1.0012\n",
            "Epoch 28, Step 1720, Train Loss: 0.0002, Valid Loss: 1.0056\n",
            "Epoch 28, Step 1730, Train Loss: 0.0002, Valid Loss: 1.0079\n",
            "Epoch 28, Step 1740, Train Loss: 0.0001, Valid Loss: 1.0093\n",
            "Epoch 28, Step 1750, Train Loss: 0.0001, Valid Loss: 1.0118\n",
            "Epoch 28, Step 1760, Train Loss: 0.0001, Valid Loss: 1.0120\n",
            "Epoch 29, Step 1770, Train Loss: 0.0002, Valid Loss: 1.0143\n",
            "Epoch 29, Step 1780, Train Loss: 0.0003, Valid Loss: 1.0196\n",
            "Epoch 29, Step 1790, Train Loss: 0.0002, Valid Loss: 1.0213\n",
            "Epoch 29, Step 1800, Train Loss: 0.0001, Valid Loss: 1.0219\n",
            "Epoch 29, Step 1810, Train Loss: 0.0001, Valid Loss: 1.0230\n",
            "Epoch 29, Step 1820, Train Loss: 0.0002, Valid Loss: 1.0248\n",
            "Epoch 30, Step 1830, Train Loss: 0.0002, Valid Loss: 1.0248\n",
            "Epoch 30, Step 1840, Train Loss: 0.0002, Valid Loss: 1.0276\n",
            "Epoch 30, Step 1850, Train Loss: 0.0001, Valid Loss: 1.0303\n",
            "Epoch 30, Step 1860, Train Loss: 0.0001, Valid Loss: 1.0315\n",
            "Epoch 30, Step 1870, Train Loss: 0.0001, Valid Loss: 1.0304\n",
            "Epoch 30, Step 1880, Train Loss: 0.0002, Valid Loss: 1.0345\n",
            "Epoch 30, Step 1890, Train Loss: 0.0001, Valid Loss: 1.0363\n"
          ]
        }
      ]
    },
    {
      "cell_type": "markdown",
      "metadata": {
        "id": "V-wJEf05DJ8Q"
      },
      "source": [
        "## 결과 출력"
      ]
    },
    {
      "cell_type": "code",
      "metadata": {
        "id": "RFiSShyMDLOX",
        "colab": {
          "base_uri": "https://localhost:8080/",
          "height": 279
        },
        "outputId": "02c080fd-026e-431f-afc9-c03913917876"
      },
      "source": [
        "draw_graph(output_file_path, device)"
      ],
      "execution_count": null,
      "outputs": [
        {
          "output_type": "display_data",
          "data": {
            "text/plain": [
              "<Figure size 432x288 with 1 Axes>"
            ],
            "image/png": "[encoded data removed]"
          },
          "metadata": {
            "needs_background": "light"
          }
        }
      ]
    },
    {
      "cell_type": "markdown",
      "metadata": {
        "id": "PBQbmatqwSe_"
      },
      "source": [
        "## 추가 질문\n",
        "\n",
        "위의 그림을 보면서 최적의 Epoch 개수를 찾아보세요."
      ]
    }
  ]
}