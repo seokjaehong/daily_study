{
  "nbformat": 4,
  "nbformat_minor": 0,
  "metadata": {
    "colab": {
      "name": "2021720504_rouge.ipynb",
      "provenance": [],
      "collapsed_sections": []
    },
    "kernelspec": {
      "name": "python3",
      "display_name": "Python 3"
    },
    "accelerator": "GPU",
    "widgets": {
      "application/vnd.jupyter.widget-state+json": {
        "57203b0fb48a4504b0bae6ffe1d2d994": {
          "model_module": "@jupyter-widgets/controls",
          "model_name": "HBoxModel",
          "model_module_version": "1.5.0",
          "state": {
            "_dom_classes": [],
            "_model_module": "@jupyter-widgets/controls",
            "_model_module_version": "1.5.0",
            "_model_name": "HBoxModel",
            "_view_count": null,
            "_view_module": "@jupyter-widgets/controls",
            "_view_module_version": "1.5.0",
            "_view_name": "HBoxView",
            "box_style": "",
            "children": [
              "IPY_MODEL_96a0294ef05c48788d1a95e5249f692f",
              "IPY_MODEL_f48817a9a4a949658312436c8359c639",
              "IPY_MODEL_ad4f2b397477412897b45633bdc30363"
            ],
            "layout": "IPY_MODEL_c8beecac05f94e218517264efae4058b"
          }
        },
        "96a0294ef05c48788d1a95e5249f692f": {
          "model_module": "@jupyter-widgets/controls",
          "model_name": "HTMLModel",
          "model_module_version": "1.5.0",
          "state": {
            "_dom_classes": [],
            "_model_module": "@jupyter-widgets/controls",
            "_model_module_version": "1.5.0",
            "_model_name": "HTMLModel",
            "_view_count": null,
            "_view_module": "@jupyter-widgets/controls",
            "_view_module_version": "1.5.0",
            "_view_name": "HTMLView",
            "description": "",
            "description_tooltip": null,
            "layout": "IPY_MODEL_6c64feccaecd43a48b0ca1c51ebd30d2",
            "placeholder": "​",
            "style": "IPY_MODEL_8a4a9f32f8734c34bfef16846e75e4e6",
            "value": "Downloading: 100%"
          }
        },
        "f48817a9a4a949658312436c8359c639": {
          "model_module": "@jupyter-widgets/controls",
          "model_name": "FloatProgressModel",
          "model_module_version": "1.5.0",
          "state": {
            "_dom_classes": [],
            "_model_module": "@jupyter-widgets/controls",
            "_model_module_version": "1.5.0",
            "_model_name": "FloatProgressModel",
            "_view_count": null,
            "_view_module": "@jupyter-widgets/controls",
            "_view_module_version": "1.5.0",
            "_view_name": "ProgressView",
            "bar_style": "success",
            "description": "",
            "description_tooltip": null,
            "layout": "IPY_MODEL_e87f290c32c04b97918c9482eaa09623",
            "max": 1146,
            "min": 0,
            "orientation": "horizontal",
            "style": "IPY_MODEL_82ae33a8c57e4468838fc489f92615fd",
            "value": 1146
          }
        },
        "ad4f2b397477412897b45633bdc30363": {
          "model_module": "@jupyter-widgets/controls",
          "model_name": "HTMLModel",
          "model_module_version": "1.5.0",
          "state": {
            "_dom_classes": [],
            "_model_module": "@jupyter-widgets/controls",
            "_model_module_version": "1.5.0",
            "_model_name": "HTMLModel",
            "_view_count": null,
            "_view_module": "@jupyter-widgets/controls",
            "_view_module_version": "1.5.0",
            "_view_name": "HTMLView",
            "description": "",
            "description_tooltip": null,
            "layout": "IPY_MODEL_0c9edb9614b341f398085a6d96fb4420",
            "placeholder": "​",
            "style": "IPY_MODEL_c570bf3e3e9542cf8a8cd574dd1e914b",
            "value": " 1.15k/1.15k [00:00&lt;00:00, 8.27kB/s]"
          }
        },
        "c8beecac05f94e218517264efae4058b": {
          "model_module": "@jupyter-widgets/base",
          "model_name": "LayoutModel",
          "model_module_version": "1.2.0",
          "state": {
            "_model_module": "@jupyter-widgets/base",
            "_model_module_version": "1.2.0",
            "_model_name": "LayoutModel",
            "_view_count": null,
            "_view_module": "@jupyter-widgets/base",
            "_view_module_version": "1.2.0",
            "_view_name": "LayoutView",
            "align_content": null,
            "align_items": null,
            "align_self": null,
            "border": null,
            "bottom": null,
            "display": null,
            "flex": null,
            "flex_flow": null,
            "grid_area": null,
            "grid_auto_columns": null,
            "grid_auto_flow": null,
            "grid_auto_rows": null,
            "grid_column": null,
            "grid_gap": null,
            "grid_row": null,
            "grid_template_areas": null,
            "grid_template_columns": null,
            "grid_template_rows": null,
            "height": null,
            "justify_content": null,
            "justify_items": null,
            "left": null,
            "margin": null,
            "max_height": null,
            "max_width": null,
            "min_height": null,
            "min_width": null,
            "object_fit": null,
            "object_position": null,
            "order": null,
            "overflow": null,
            "overflow_x": null,
            "overflow_y": null,
            "padding": null,
            "right": null,
            "top": null,
            "visibility": null,
            "width": null
          }
        },
        "6c64feccaecd43a48b0ca1c51ebd30d2": {
          "model_module": "@jupyter-widgets/base",
          "model_name": "LayoutModel",
          "model_module_version": "1.2.0",
          "state": {
            "_model_module": "@jupyter-widgets/base",
            "_model_module_version": "1.2.0",
            "_model_name": "LayoutModel",
            "_view_count": null,
            "_view_module": "@jupyter-widgets/base",
            "_view_module_version": "1.2.0",
            "_view_name": "LayoutView",
            "align_content": null,
            "align_items": null,
            "align_self": null,
            "border": null,
            "bottom": null,
            "display": null,
            "flex": null,
            "flex_flow": null,
            "grid_area": null,
            "grid_auto_columns": null,
            "grid_auto_flow": null,
            "grid_auto_rows": null,
            "grid_column": null,
            "grid_gap": null,
            "grid_row": null,
            "grid_template_areas": null,
            "grid_template_columns": null,
            "grid_template_rows": null,
            "height": null,
            "justify_content": null,
            "justify_items": null,
            "left": null,
            "margin": null,
            "max_height": null,
            "max_width": null,
            "min_height": null,
            "min_width": null,
            "object_fit": null,
            "object_position": null,
            "order": null,
            "overflow": null,
            "overflow_x": null,
            "overflow_y": null,
            "padding": null,
            "right": null,
            "top": null,
            "visibility": null,
            "width": null
          }
        },
        "8a4a9f32f8734c34bfef16846e75e4e6": {
          "model_module": "@jupyter-widgets/controls",
          "model_name": "DescriptionStyleModel",
          "model_module_version": "1.5.0",
          "state": {
            "_model_module": "@jupyter-widgets/controls",
            "_model_module_version": "1.5.0",
            "_model_name": "DescriptionStyleModel",
            "_view_count": null,
            "_view_module": "@jupyter-widgets/base",
            "_view_module_version": "1.2.0",
            "_view_name": "StyleView",
            "description_width": ""
          }
        },
        "e87f290c32c04b97918c9482eaa09623": {
          "model_module": "@jupyter-widgets/base",
          "model_name": "LayoutModel",
          "model_module_version": "1.2.0",
          "state": {
            "_model_module": "@jupyter-widgets/base",
            "_model_module_version": "1.2.0",
            "_model_name": "LayoutModel",
            "_view_count": null,
            "_view_module": "@jupyter-widgets/base",
            "_view_module_version": "1.2.0",
            "_view_name": "LayoutView",
            "align_content": null,
            "align_items": null,
            "align_self": null,
            "border": null,
            "bottom": null,
            "display": null,
            "flex": null,
            "flex_flow": null,
            "grid_area": null,
            "grid_auto_columns": null,
            "grid_auto_flow": null,
            "grid_auto_rows": null,
            "grid_column": null,
            "grid_gap": null,
            "grid_row": null,
            "grid_template_areas": null,
            "grid_template_columns": null,
            "grid_template_rows": null,
            "height": null,
            "justify_content": null,
            "justify_items": null,
            "left": null,
            "margin": null,
            "max_height": null,
            "max_width": null,
            "min_height": null,
            "min_width": null,
            "object_fit": null,
            "object_position": null,
            "order": null,
            "overflow": null,
            "overflow_x": null,
            "overflow_y": null,
            "padding": null,
            "right": null,
            "top": null,
            "visibility": null,
            "width": null
          }
        },
        "82ae33a8c57e4468838fc489f92615fd": {
          "model_module": "@jupyter-widgets/controls",
          "model_name": "ProgressStyleModel",
          "model_module_version": "1.5.0",
          "state": {
            "_model_module": "@jupyter-widgets/controls",
            "_model_module_version": "1.5.0",
            "_model_name": "ProgressStyleModel",
            "_view_count": null,
            "_view_module": "@jupyter-widgets/base",
            "_view_module_version": "1.2.0",
            "_view_name": "StyleView",
            "bar_color": null,
            "description_width": ""
          }
        },
        "0c9edb9614b341f398085a6d96fb4420": {
          "model_module": "@jupyter-widgets/base",
          "model_name": "LayoutModel",
          "model_module_version": "1.2.0",
          "state": {
            "_model_module": "@jupyter-widgets/base",
            "_model_module_version": "1.2.0",
            "_model_name": "LayoutModel",
            "_view_count": null,
            "_view_module": "@jupyter-widgets/base",
            "_view_module_version": "1.2.0",
            "_view_name": "LayoutView",
            "align_content": null,
            "align_items": null,
            "align_self": null,
            "border": null,
            "bottom": null,
            "display": null,
            "flex": null,
            "flex_flow": null,
            "grid_area": null,
            "grid_auto_columns": null,
            "grid_auto_flow": null,
            "grid_auto_rows": null,
            "grid_column": null,
            "grid_gap": null,
            "grid_row": null,
            "grid_template_areas": null,
            "grid_template_columns": null,
            "grid_template_rows": null,
            "height": null,
            "justify_content": null,
            "justify_items": null,
            "left": null,
            "margin": null,
            "max_height": null,
            "max_width": null,
            "min_height": null,
            "min_width": null,
            "object_fit": null,
            "object_position": null,
            "order": null,
            "overflow": null,
            "overflow_x": null,
            "overflow_y": null,
            "padding": null,
            "right": null,
            "top": null,
            "visibility": null,
            "width": null
          }
        },
        "c570bf3e3e9542cf8a8cd574dd1e914b": {
          "model_module": "@jupyter-widgets/controls",
          "model_name": "DescriptionStyleModel",
          "model_module_version": "1.5.0",
          "state": {
            "_model_module": "@jupyter-widgets/controls",
            "_model_module_version": "1.5.0",
            "_model_name": "DescriptionStyleModel",
            "_view_count": null,
            "_view_module": "@jupyter-widgets/base",
            "_view_module_version": "1.2.0",
            "_view_name": "StyleView",
            "description_width": ""
          }
        },
        "719c94c5da094a11b13f52962e8ef885": {
          "model_module": "@jupyter-widgets/controls",
          "model_name": "HBoxModel",
          "model_module_version": "1.5.0",
          "state": {
            "_dom_classes": [],
            "_model_module": "@jupyter-widgets/controls",
            "_model_module_version": "1.5.0",
            "_model_name": "HBoxModel",
            "_view_count": null,
            "_view_module": "@jupyter-widgets/controls",
            "_view_module_version": "1.5.0",
            "_view_name": "HBoxView",
            "box_style": "",
            "children": [
              "IPY_MODEL_9696c40a890446a89c0c52d8789ea12d",
              "IPY_MODEL_b85e1448372f433e9db85a562b5f6a00",
              "IPY_MODEL_20907c2b2b7543598b7e1bee8ca6f6ea"
            ],
            "layout": "IPY_MODEL_bb01d61b7b7945fd94f70e09ad23ba16"
          }
        },
        "9696c40a890446a89c0c52d8789ea12d": {
          "model_module": "@jupyter-widgets/controls",
          "model_name": "HTMLModel",
          "model_module_version": "1.5.0",
          "state": {
            "_dom_classes": [],
            "_model_module": "@jupyter-widgets/controls",
            "_model_module_version": "1.5.0",
            "_model_name": "HTMLModel",
            "_view_count": null,
            "_view_module": "@jupyter-widgets/controls",
            "_view_module_version": "1.5.0",
            "_view_name": "HTMLView",
            "description": "",
            "description_tooltip": null,
            "layout": "IPY_MODEL_666986bac6e643568b11a615a311a97a",
            "placeholder": "​",
            "style": "IPY_MODEL_7636a69f5d524f539e1e557ed71a2299",
            "value": "Downloading: 100%"
          }
        },
        "b85e1448372f433e9db85a562b5f6a00": {
          "model_module": "@jupyter-widgets/controls",
          "model_name": "FloatProgressModel",
          "model_module_version": "1.5.0",
          "state": {
            "_dom_classes": [],
            "_model_module": "@jupyter-widgets/controls",
            "_model_module_version": "1.5.0",
            "_model_name": "FloatProgressModel",
            "_view_count": null,
            "_view_module": "@jupyter-widgets/controls",
            "_view_module_version": "1.5.0",
            "_view_name": "ProgressView",
            "bar_style": "success",
            "description": "",
            "description_tooltip": null,
            "layout": "IPY_MODEL_3ed075b35d11425a83278bd4d2f3e825",
            "max": 841805,
            "min": 0,
            "orientation": "horizontal",
            "style": "IPY_MODEL_c8ed0f610d78413a8f044024f6ac69e3",
            "value": 841805
          }
        },
        "20907c2b2b7543598b7e1bee8ca6f6ea": {
          "model_module": "@jupyter-widgets/controls",
          "model_name": "HTMLModel",
          "model_module_version": "1.5.0",
          "state": {
            "_dom_classes": [],
            "_model_module": "@jupyter-widgets/controls",
            "_model_module_version": "1.5.0",
            "_model_name": "HTMLModel",
            "_view_count": null,
            "_view_module": "@jupyter-widgets/controls",
            "_view_module_version": "1.5.0",
            "_view_name": "HTMLView",
            "description": "",
            "description_tooltip": null,
            "layout": "IPY_MODEL_fe8c9ae743434063a3a473affb9a94ee",
            "placeholder": "​",
            "style": "IPY_MODEL_ae622202f6e24d2fac5b622df13acfa9",
            "value": " 842k/842k [00:00&lt;00:00, 1.61MB/s]"
          }
        },
        "bb01d61b7b7945fd94f70e09ad23ba16": {
          "model_module": "@jupyter-widgets/base",
          "model_name": "LayoutModel",
          "model_module_version": "1.2.0",
          "state": {
            "_model_module": "@jupyter-widgets/base",
            "_model_module_version": "1.2.0",
            "_model_name": "LayoutModel",
            "_view_count": null,
            "_view_module": "@jupyter-widgets/base",
            "_view_module_version": "1.2.0",
            "_view_name": "LayoutView",
            "align_content": null,
            "align_items": null,
            "align_self": null,
            "border": null,
            "bottom": null,
            "display": null,
            "flex": null,
            "flex_flow": null,
            "grid_area": null,
            "grid_auto_columns": null,
            "grid_auto_flow": null,
            "grid_auto_rows": null,
            "grid_column": null,
            "grid_gap": null,
            "grid_row": null,
            "grid_template_areas": null,
            "grid_template_columns": null,
            "grid_template_rows": null,
            "height": null,
            "justify_content": null,
            "justify_items": null,
            "left": null,
            "margin": null,
            "max_height": null,
            "max_width": null,
            "min_height": null,
            "min_width": null,
            "object_fit": null,
            "object_position": null,
            "order": null,
            "overflow": null,
            "overflow_x": null,
            "overflow_y": null,
            "padding": null,
            "right": null,
            "top": null,
            "visibility": null,
            "width": null
          }
        },
        "666986bac6e643568b11a615a311a97a": {
          "model_module": "@jupyter-widgets/base",
          "model_name": "LayoutModel",
          "model_module_version": "1.2.0",
          "state": {
            "_model_module": "@jupyter-widgets/base",
            "_model_module_version": "1.2.0",
            "_model_name": "LayoutModel",
            "_view_count": null,
            "_view_module": "@jupyter-widgets/base",
            "_view_module_version": "1.2.0",
            "_view_name": "LayoutView",
            "align_content": null,
            "align_items": null,
            "align_self": null,
            "border": null,
            "bottom": null,
            "display": null,
            "flex": null,
            "flex_flow": null,
            "grid_area": null,
            "grid_auto_columns": null,
            "grid_auto_flow": null,
            "grid_auto_rows": null,
            "grid_column": null,
            "grid_gap": null,
            "grid_row": null,
            "grid_template_areas": null,
            "grid_template_columns": null,
            "grid_template_rows": null,
            "height": null,
            "justify_content": null,
            "justify_items": null,
            "left": null,
            "margin": null,
            "max_height": null,
            "max_width": null,
            "min_height": null,
            "min_width": null,
            "object_fit": null,
            "object_position": null,
            "order": null,
            "overflow": null,
            "overflow_x": null,
            "overflow_y": null,
            "padding": null,
            "right": null,
            "top": null,
            "visibility": null,
            "width": null
          }
        },
        "7636a69f5d524f539e1e557ed71a2299": {
          "model_module": "@jupyter-widgets/controls",
          "model_name": "DescriptionStyleModel",
          "model_module_version": "1.5.0",
          "state": {
            "_model_module": "@jupyter-widgets/controls",
            "_model_module_version": "1.5.0",
            "_model_name": "DescriptionStyleModel",
            "_view_count": null,
            "_view_module": "@jupyter-widgets/base",
            "_view_module_version": "1.2.0",
            "_view_name": "StyleView",
            "description_width": ""
          }
        },
        "3ed075b35d11425a83278bd4d2f3e825": {
          "model_module": "@jupyter-widgets/base",
          "model_name": "LayoutModel",
          "model_module_version": "1.2.0",
          "state": {
            "_model_module": "@jupyter-widgets/base",
            "_model_module_version": "1.2.0",
            "_model_name": "LayoutModel",
            "_view_count": null,
            "_view_module": "@jupyter-widgets/base",
            "_view_module_version": "1.2.0",
            "_view_name": "LayoutView",
            "align_content": null,
            "align_items": null,
            "align_self": null,
            "border": null,
            "bottom": null,
            "display": null,
            "flex": null,
            "flex_flow": null,
            "grid_area": null,
            "grid_auto_columns": null,
            "grid_auto_flow": null,
            "grid_auto_rows": null,
            "grid_column": null,
            "grid_gap": null,
            "grid_row": null,
            "grid_template_areas": null,
            "grid_template_columns": null,
            "grid_template_rows": null,
            "height": null,
            "justify_content": null,
            "justify_items": null,
            "left": null,
            "margin": null,
            "max_height": null,
            "max_width": null,
            "min_height": null,
            "min_width": null,
            "object_fit": null,
            "object_position": null,
            "order": null,
            "overflow": null,
            "overflow_x": null,
            "overflow_y": null,
            "padding": null,
            "right": null,
            "top": null,
            "visibility": null,
            "width": null
          }
        },
        "c8ed0f610d78413a8f044024f6ac69e3": {
          "model_module": "@jupyter-widgets/controls",
          "model_name": "ProgressStyleModel",
          "model_module_version": "1.5.0",
          "state": {
            "_model_module": "@jupyter-widgets/controls",
            "_model_module_version": "1.5.0",
            "_model_name": "ProgressStyleModel",
            "_view_count": null,
            "_view_module": "@jupyter-widgets/base",
            "_view_module_version": "1.2.0",
            "_view_name": "StyleView",
            "bar_color": null,
            "description_width": ""
          }
        },
        "fe8c9ae743434063a3a473affb9a94ee": {
          "model_module": "@jupyter-widgets/base",
          "model_name": "LayoutModel",
          "model_module_version": "1.2.0",
          "state": {
            "_model_module": "@jupyter-widgets/base",
            "_model_module_version": "1.2.0",
            "_model_name": "LayoutModel",
            "_view_count": null,
            "_view_module": "@jupyter-widgets/base",
            "_view_module_version": "1.2.0",
            "_view_name": "LayoutView",
            "align_content": null,
            "align_items": null,
            "align_self": null,
            "border": null,
            "bottom": null,
            "display": null,
            "flex": null,
            "flex_flow": null,
            "grid_area": null,
            "grid_auto_columns": null,
            "grid_auto_flow": null,
            "grid_auto_rows": null,
            "grid_column": null,
            "grid_gap": null,
            "grid_row": null,
            "grid_template_areas": null,
            "grid_template_columns": null,
            "grid_template_rows": null,
            "height": null,
            "justify_content": null,
            "justify_items": null,
            "left": null,
            "margin": null,
            "max_height": null,
            "max_width": null,
            "min_height": null,
            "min_width": null,
            "object_fit": null,
            "object_position": null,
            "order": null,
            "overflow": null,
            "overflow_x": null,
            "overflow_y": null,
            "padding": null,
            "right": null,
            "top": null,
            "visibility": null,
            "width": null
          }
        },
        "ae622202f6e24d2fac5b622df13acfa9": {
          "model_module": "@jupyter-widgets/controls",
          "model_name": "DescriptionStyleModel",
          "model_module_version": "1.5.0",
          "state": {
            "_model_module": "@jupyter-widgets/controls",
            "_model_module_version": "1.5.0",
            "_model_name": "DescriptionStyleModel",
            "_view_count": null,
            "_view_module": "@jupyter-widgets/base",
            "_view_module_version": "1.2.0",
            "_view_name": "StyleView",
            "description_width": ""
          }
        },
        "c15c30e4ddc7440c9f419b831a52dff3": {
          "model_module": "@jupyter-widgets/controls",
          "model_name": "HBoxModel",
          "model_module_version": "1.5.0",
          "state": {
            "_dom_classes": [],
            "_model_module": "@jupyter-widgets/controls",
            "_model_module_version": "1.5.0",
            "_model_name": "HBoxModel",
            "_view_count": null,
            "_view_module": "@jupyter-widgets/controls",
            "_view_module_version": "1.5.0",
            "_view_name": "HBoxView",
            "box_style": "",
            "children": [
              "IPY_MODEL_aa32752f488242dabea073b3cdb98792",
              "IPY_MODEL_e6516f043237442892f68cf929d106d4",
              "IPY_MODEL_cd60b9e1a8064537a34fce18988db4d0"
            ],
            "layout": "IPY_MODEL_cd5673bdb924486ab35a65c39c0fa4db"
          }
        },
        "aa32752f488242dabea073b3cdb98792": {
          "model_module": "@jupyter-widgets/controls",
          "model_name": "HTMLModel",
          "model_module_version": "1.5.0",
          "state": {
            "_dom_classes": [],
            "_model_module": "@jupyter-widgets/controls",
            "_model_module_version": "1.5.0",
            "_model_name": "HTMLModel",
            "_view_count": null,
            "_view_module": "@jupyter-widgets/controls",
            "_view_module_version": "1.5.0",
            "_view_name": "HTMLView",
            "description": "",
            "description_tooltip": null,
            "layout": "IPY_MODEL_23fb31c7abe746be8e70322460b14007",
            "placeholder": "​",
            "style": "IPY_MODEL_d075902eff0d441496492c88bd3629f6",
            "value": "Downloading: 100%"
          }
        },
        "e6516f043237442892f68cf929d106d4": {
          "model_module": "@jupyter-widgets/controls",
          "model_name": "FloatProgressModel",
          "model_module_version": "1.5.0",
          "state": {
            "_dom_classes": [],
            "_model_module": "@jupyter-widgets/controls",
            "_model_module_version": "1.5.0",
            "_model_name": "FloatProgressModel",
            "_view_count": null,
            "_view_module": "@jupyter-widgets/controls",
            "_view_module_version": "1.5.0",
            "_view_name": "ProgressView",
            "bar_style": "success",
            "description": "",
            "description_tooltip": null,
            "layout": "IPY_MODEL_e0923058427643989093cbd1ea46c990",
            "max": 813126,
            "min": 0,
            "orientation": "horizontal",
            "style": "IPY_MODEL_a3cc77ea18814575b9f941ec1073c4f4",
            "value": 813126
          }
        },
        "cd60b9e1a8064537a34fce18988db4d0": {
          "model_module": "@jupyter-widgets/controls",
          "model_name": "HTMLModel",
          "model_module_version": "1.5.0",
          "state": {
            "_dom_classes": [],
            "_model_module": "@jupyter-widgets/controls",
            "_model_module_version": "1.5.0",
            "_model_name": "HTMLModel",
            "_view_count": null,
            "_view_module": "@jupyter-widgets/controls",
            "_view_module_version": "1.5.0",
            "_view_name": "HTMLView",
            "description": "",
            "description_tooltip": null,
            "layout": "IPY_MODEL_4b94b2a87e864768b72269e1906ed57c",
            "placeholder": "​",
            "style": "IPY_MODEL_2a1fc98b2892440caebdf69c179b2b1d",
            "value": " 813k/813k [00:00&lt;00:00, 617kB/s]"
          }
        },
        "cd5673bdb924486ab35a65c39c0fa4db": {
          "model_module": "@jupyter-widgets/base",
          "model_name": "LayoutModel",
          "model_module_version": "1.2.0",
          "state": {
            "_model_module": "@jupyter-widgets/base",
            "_model_module_version": "1.2.0",
            "_model_name": "LayoutModel",
            "_view_count": null,
            "_view_module": "@jupyter-widgets/base",
            "_view_module_version": "1.2.0",
            "_view_name": "LayoutView",
            "align_content": null,
            "align_items": null,
            "align_self": null,
            "border": null,
            "bottom": null,
            "display": null,
            "flex": null,
            "flex_flow": null,
            "grid_area": null,
            "grid_auto_columns": null,
            "grid_auto_flow": null,
            "grid_auto_rows": null,
            "grid_column": null,
            "grid_gap": null,
            "grid_row": null,
            "grid_template_areas": null,
            "grid_template_columns": null,
            "grid_template_rows": null,
            "height": null,
            "justify_content": null,
            "justify_items": null,
            "left": null,
            "margin": null,
            "max_height": null,
            "max_width": null,
            "min_height": null,
            "min_width": null,
            "object_fit": null,
            "object_position": null,
            "order": null,
            "overflow": null,
            "overflow_x": null,
            "overflow_y": null,
            "padding": null,
            "right": null,
            "top": null,
            "visibility": null,
            "width": null
          }
        },
        "23fb31c7abe746be8e70322460b14007": {
          "model_module": "@jupyter-widgets/base",
          "model_name": "LayoutModel",
          "model_module_version": "1.2.0",
          "state": {
            "_model_module": "@jupyter-widgets/base",
            "_model_module_version": "1.2.0",
            "_model_name": "LayoutModel",
            "_view_count": null,
            "_view_module": "@jupyter-widgets/base",
            "_view_module_version": "1.2.0",
            "_view_name": "LayoutView",
            "align_content": null,
            "align_items": null,
            "align_self": null,
            "border": null,
            "bottom": null,
            "display": null,
            "flex": null,
            "flex_flow": null,
            "grid_area": null,
            "grid_auto_columns": null,
            "grid_auto_flow": null,
            "grid_auto_rows": null,
            "grid_column": null,
            "grid_gap": null,
            "grid_row": null,
            "grid_template_areas": null,
            "grid_template_columns": null,
            "grid_template_rows": null,
            "height": null,
            "justify_content": null,
            "justify_items": null,
            "left": null,
            "margin": null,
            "max_height": null,
            "max_width": null,
            "min_height": null,
            "min_width": null,
            "object_fit": null,
            "object_position": null,
            "order": null,
            "overflow": null,
            "overflow_x": null,
            "overflow_y": null,
            "padding": null,
            "right": null,
            "top": null,
            "visibility": null,
            "width": null
          }
        },
        "d075902eff0d441496492c88bd3629f6": {
          "model_module": "@jupyter-widgets/controls",
          "model_name": "DescriptionStyleModel",
          "model_module_version": "1.5.0",
          "state": {
            "_model_module": "@jupyter-widgets/controls",
            "_model_module_version": "1.5.0",
            "_model_name": "DescriptionStyleModel",
            "_view_count": null,
            "_view_module": "@jupyter-widgets/base",
            "_view_module_version": "1.2.0",
            "_view_name": "StyleView",
            "description_width": ""
          }
        },
        "e0923058427643989093cbd1ea46c990": {
          "model_module": "@jupyter-widgets/base",
          "model_name": "LayoutModel",
          "model_module_version": "1.2.0",
          "state": {
            "_model_module": "@jupyter-widgets/base",
            "_model_module_version": "1.2.0",
            "_model_name": "LayoutModel",
            "_view_count": null,
            "_view_module": "@jupyter-widgets/base",
            "_view_module_version": "1.2.0",
            "_view_name": "LayoutView",
            "align_content": null,
            "align_items": null,
            "align_self": null,
            "border": null,
            "bottom": null,
            "display": null,
            "flex": null,
            "flex_flow": null,
            "grid_area": null,
            "grid_auto_columns": null,
            "grid_auto_flow": null,
            "grid_auto_rows": null,
            "grid_column": null,
            "grid_gap": null,
            "grid_row": null,
            "grid_template_areas": null,
            "grid_template_columns": null,
            "grid_template_rows": null,
            "height": null,
            "justify_content": null,
            "justify_items": null,
            "left": null,
            "margin": null,
            "max_height": null,
            "max_width": null,
            "min_height": null,
            "min_width": null,
            "object_fit": null,
            "object_position": null,
            "order": null,
            "overflow": null,
            "overflow_x": null,
            "overflow_y": null,
            "padding": null,
            "right": null,
            "top": null,
            "visibility": null,
            "width": null
          }
        },
        "a3cc77ea18814575b9f941ec1073c4f4": {
          "model_module": "@jupyter-widgets/controls",
          "model_name": "ProgressStyleModel",
          "model_module_version": "1.5.0",
          "state": {
            "_model_module": "@jupyter-widgets/controls",
            "_model_module_version": "1.5.0",
            "_model_name": "ProgressStyleModel",
            "_view_count": null,
            "_view_module": "@jupyter-widgets/base",
            "_view_module_version": "1.2.0",
            "_view_name": "StyleView",
            "bar_color": null,
            "description_width": ""
          }
        },
        "4b94b2a87e864768b72269e1906ed57c": {
          "model_module": "@jupyter-widgets/base",
          "model_name": "LayoutModel",
          "model_module_version": "1.2.0",
          "state": {
            "_model_module": "@jupyter-widgets/base",
            "_model_module_version": "1.2.0",
            "_model_name": "LayoutModel",
            "_view_count": null,
            "_view_module": "@jupyter-widgets/base",
            "_view_module_version": "1.2.0",
            "_view_name": "LayoutView",
            "align_content": null,
            "align_items": null,
            "align_self": null,
            "border": null,
            "bottom": null,
            "display": null,
            "flex": null,
            "flex_flow": null,
            "grid_area": null,
            "grid_auto_columns": null,
            "grid_auto_flow": null,
            "grid_auto_rows": null,
            "grid_column": null,
            "grid_gap": null,
            "grid_row": null,
            "grid_template_areas": null,
            "grid_template_columns": null,
            "grid_template_rows": null,
            "height": null,
            "justify_content": null,
            "justify_items": null,
            "left": null,
            "margin": null,
            "max_height": null,
            "max_width": null,
            "min_height": null,
            "min_width": null,
            "object_fit": null,
            "object_position": null,
            "order": null,
            "overflow": null,
            "overflow_x": null,
            "overflow_y": null,
            "padding": null,
            "right": null,
            "top": null,
            "visibility": null,
            "width": null
          }
        },
        "2a1fc98b2892440caebdf69c179b2b1d": {
          "model_module": "@jupyter-widgets/controls",
          "model_name": "DescriptionStyleModel",
          "model_module_version": "1.5.0",
          "state": {
            "_model_module": "@jupyter-widgets/controls",
            "_model_module_version": "1.5.0",
            "_model_name": "DescriptionStyleModel",
            "_view_count": null,
            "_view_module": "@jupyter-widgets/base",
            "_view_module_version": "1.2.0",
            "_view_name": "StyleView",
            "description_width": ""
          }
        },
        "1666c88bde6e42fa90b4ea126b13bd28": {
          "model_module": "@jupyter-widgets/controls",
          "model_name": "HBoxModel",
          "model_module_version": "1.5.0",
          "state": {
            "_dom_classes": [],
            "_model_module": "@jupyter-widgets/controls",
            "_model_module_version": "1.5.0",
            "_model_name": "HBoxModel",
            "_view_count": null,
            "_view_module": "@jupyter-widgets/controls",
            "_view_module_version": "1.5.0",
            "_view_name": "HBoxView",
            "box_style": "",
            "children": [
              "IPY_MODEL_767970d99ada4a15a349caad2d210ea7",
              "IPY_MODEL_1273f4b7d6e7482ea5a477249e128ff8",
              "IPY_MODEL_8ad97463de3a42c8b861c23180b34707"
            ],
            "layout": "IPY_MODEL_696e6f8d5f5c4fab890b7c658957326c"
          }
        },
        "767970d99ada4a15a349caad2d210ea7": {
          "model_module": "@jupyter-widgets/controls",
          "model_name": "HTMLModel",
          "model_module_version": "1.5.0",
          "state": {
            "_dom_classes": [],
            "_model_module": "@jupyter-widgets/controls",
            "_model_module_version": "1.5.0",
            "_model_name": "HTMLModel",
            "_view_count": null,
            "_view_module": "@jupyter-widgets/controls",
            "_view_module_version": "1.5.0",
            "_view_name": "HTMLView",
            "description": "",
            "description_tooltip": null,
            "layout": "IPY_MODEL_66e7ebb9d13f4f87b1224bf36f08db37",
            "placeholder": "​",
            "style": "IPY_MODEL_fa3d1f57fc774c558a3736576543d848",
            "value": "Downloading: 100%"
          }
        },
        "1273f4b7d6e7482ea5a477249e128ff8": {
          "model_module": "@jupyter-widgets/controls",
          "model_name": "FloatProgressModel",
          "model_module_version": "1.5.0",
          "state": {
            "_dom_classes": [],
            "_model_module": "@jupyter-widgets/controls",
            "_model_module_version": "1.5.0",
            "_model_name": "FloatProgressModel",
            "_view_count": null,
            "_view_module": "@jupyter-widgets/controls",
            "_view_module_version": "1.5.0",
            "_view_name": "ProgressView",
            "bar_style": "success",
            "description": "",
            "description_tooltip": null,
            "layout": "IPY_MODEL_c75730b757d84ba2ab178e7a97f5e523",
            "max": 1719866,
            "min": 0,
            "orientation": "horizontal",
            "style": "IPY_MODEL_f22670a91d6a4608b8949c84b78deed0",
            "value": 1719866
          }
        },
        "8ad97463de3a42c8b861c23180b34707": {
          "model_module": "@jupyter-widgets/controls",
          "model_name": "HTMLModel",
          "model_module_version": "1.5.0",
          "state": {
            "_dom_classes": [],
            "_model_module": "@jupyter-widgets/controls",
            "_model_module_version": "1.5.0",
            "_model_name": "HTMLModel",
            "_view_count": null,
            "_view_module": "@jupyter-widgets/controls",
            "_view_module_version": "1.5.0",
            "_view_name": "HTMLView",
            "description": "",
            "description_tooltip": null,
            "layout": "IPY_MODEL_5341a8016b84497ca6e79dae868c505f",
            "placeholder": "​",
            "style": "IPY_MODEL_13a6973196764502b230566b95b0eb52",
            "value": " 1.72M/1.72M [00:00&lt;00:00, 2.11MB/s]"
          }
        },
        "696e6f8d5f5c4fab890b7c658957326c": {
          "model_module": "@jupyter-widgets/base",
          "model_name": "LayoutModel",
          "model_module_version": "1.2.0",
          "state": {
            "_model_module": "@jupyter-widgets/base",
            "_model_module_version": "1.2.0",
            "_model_name": "LayoutModel",
            "_view_count": null,
            "_view_module": "@jupyter-widgets/base",
            "_view_module_version": "1.2.0",
            "_view_name": "LayoutView",
            "align_content": null,
            "align_items": null,
            "align_self": null,
            "border": null,
            "bottom": null,
            "display": null,
            "flex": null,
            "flex_flow": null,
            "grid_area": null,
            "grid_auto_columns": null,
            "grid_auto_flow": null,
            "grid_auto_rows": null,
            "grid_column": null,
            "grid_gap": null,
            "grid_row": null,
            "grid_template_areas": null,
            "grid_template_columns": null,
            "grid_template_rows": null,
            "height": null,
            "justify_content": null,
            "justify_items": null,
            "left": null,
            "margin": null,
            "max_height": null,
            "max_width": null,
            "min_height": null,
            "min_width": null,
            "object_fit": null,
            "object_position": null,
            "order": null,
            "overflow": null,
            "overflow_x": null,
            "overflow_y": null,
            "padding": null,
            "right": null,
            "top": null,
            "visibility": null,
            "width": null
          }
        },
        "66e7ebb9d13f4f87b1224bf36f08db37": {
          "model_module": "@jupyter-widgets/base",
          "model_name": "LayoutModel",
          "model_module_version": "1.2.0",
          "state": {
            "_model_module": "@jupyter-widgets/base",
            "_model_module_version": "1.2.0",
            "_model_name": "LayoutModel",
            "_view_count": null,
            "_view_module": "@jupyter-widgets/base",
            "_view_module_version": "1.2.0",
            "_view_name": "LayoutView",
            "align_content": null,
            "align_items": null,
            "align_self": null,
            "border": null,
            "bottom": null,
            "display": null,
            "flex": null,
            "flex_flow": null,
            "grid_area": null,
            "grid_auto_columns": null,
            "grid_auto_flow": null,
            "grid_auto_rows": null,
            "grid_column": null,
            "grid_gap": null,
            "grid_row": null,
            "grid_template_areas": null,
            "grid_template_columns": null,
            "grid_template_rows": null,
            "height": null,
            "justify_content": null,
            "justify_items": null,
            "left": null,
            "margin": null,
            "max_height": null,
            "max_width": null,
            "min_height": null,
            "min_width": null,
            "object_fit": null,
            "object_position": null,
            "order": null,
            "overflow": null,
            "overflow_x": null,
            "overflow_y": null,
            "padding": null,
            "right": null,
            "top": null,
            "visibility": null,
            "width": null
          }
        },
        "fa3d1f57fc774c558a3736576543d848": {
          "model_module": "@jupyter-widgets/controls",
          "model_name": "DescriptionStyleModel",
          "model_module_version": "1.5.0",
          "state": {
            "_model_module": "@jupyter-widgets/controls",
            "_model_module_version": "1.5.0",
            "_model_name": "DescriptionStyleModel",
            "_view_count": null,
            "_view_module": "@jupyter-widgets/base",
            "_view_module_version": "1.2.0",
            "_view_name": "StyleView",
            "description_width": ""
          }
        },
        "c75730b757d84ba2ab178e7a97f5e523": {
          "model_module": "@jupyter-widgets/base",
          "model_name": "LayoutModel",
          "model_module_version": "1.2.0",
          "state": {
            "_model_module": "@jupyter-widgets/base",
            "_model_module_version": "1.2.0",
            "_model_name": "LayoutModel",
            "_view_count": null,
            "_view_module": "@jupyter-widgets/base",
            "_view_module_version": "1.2.0",
            "_view_name": "LayoutView",
            "align_content": null,
            "align_items": null,
            "align_self": null,
            "border": null,
            "bottom": null,
            "display": null,
            "flex": null,
            "flex_flow": null,
            "grid_area": null,
            "grid_auto_columns": null,
            "grid_auto_flow": null,
            "grid_auto_rows": null,
            "grid_column": null,
            "grid_gap": null,
            "grid_row": null,
            "grid_template_areas": null,
            "grid_template_columns": null,
            "grid_template_rows": null,
            "height": null,
            "justify_content": null,
            "justify_items": null,
            "left": null,
            "margin": null,
            "max_height": null,
            "max_width": null,
            "min_height": null,
            "min_width": null,
            "object_fit": null,
            "object_position": null,
            "order": null,
            "overflow": null,
            "overflow_x": null,
            "overflow_y": null,
            "padding": null,
            "right": null,
            "top": null,
            "visibility": null,
            "width": null
          }
        },
        "f22670a91d6a4608b8949c84b78deed0": {
          "model_module": "@jupyter-widgets/controls",
          "model_name": "ProgressStyleModel",
          "model_module_version": "1.5.0",
          "state": {
            "_model_module": "@jupyter-widgets/controls",
            "_model_module_version": "1.5.0",
            "_model_name": "ProgressStyleModel",
            "_view_count": null,
            "_view_module": "@jupyter-widgets/base",
            "_view_module_version": "1.2.0",
            "_view_name": "StyleView",
            "bar_color": null,
            "description_width": ""
          }
        },
        "5341a8016b84497ca6e79dae868c505f": {
          "model_module": "@jupyter-widgets/base",
          "model_name": "LayoutModel",
          "model_module_version": "1.2.0",
          "state": {
            "_model_module": "@jupyter-widgets/base",
            "_model_module_version": "1.2.0",
            "_model_name": "LayoutModel",
            "_view_count": null,
            "_view_module": "@jupyter-widgets/base",
            "_view_module_version": "1.2.0",
            "_view_name": "LayoutView",
            "align_content": null,
            "align_items": null,
            "align_self": null,
            "border": null,
            "bottom": null,
            "display": null,
            "flex": null,
            "flex_flow": null,
            "grid_area": null,
            "grid_auto_columns": null,
            "grid_auto_flow": null,
            "grid_auto_rows": null,
            "grid_column": null,
            "grid_gap": null,
            "grid_row": null,
            "grid_template_areas": null,
            "grid_template_columns": null,
            "grid_template_rows": null,
            "height": null,
            "justify_content": null,
            "justify_items": null,
            "left": null,
            "margin": null,
            "max_height": null,
            "max_width": null,
            "min_height": null,
            "min_width": null,
            "object_fit": null,
            "object_position": null,
            "order": null,
            "overflow": null,
            "overflow_x": null,
            "overflow_y": null,
            "padding": null,
            "right": null,
            "top": null,
            "visibility": null,
            "width": null
          }
        },
        "13a6973196764502b230566b95b0eb52": {
          "model_module": "@jupyter-widgets/controls",
          "model_name": "DescriptionStyleModel",
          "model_module_version": "1.5.0",
          "state": {
            "_model_module": "@jupyter-widgets/controls",
            "_model_module_version": "1.5.0",
            "_model_name": "DescriptionStyleModel",
            "_view_count": null,
            "_view_module": "@jupyter-widgets/base",
            "_view_module_version": "1.2.0",
            "_view_name": "StyleView",
            "description_width": ""
          }
        },
        "2a90bee5f78848819f1b5d5d8a4f595c": {
          "model_module": "@jupyter-widgets/controls",
          "model_name": "HBoxModel",
          "model_module_version": "1.5.0",
          "state": {
            "_dom_classes": [],
            "_model_module": "@jupyter-widgets/controls",
            "_model_module_version": "1.5.0",
            "_model_name": "HBoxModel",
            "_view_count": null,
            "_view_module": "@jupyter-widgets/controls",
            "_view_module_version": "1.5.0",
            "_view_name": "HBoxView",
            "box_style": "",
            "children": [
              "IPY_MODEL_051c1bd9110c4cd98395fa940aa07f4d",
              "IPY_MODEL_6914b81da54546d3b1bd30ac18588c0f",
              "IPY_MODEL_6a1c369637d94f58a9b3631d0ac959c0"
            ],
            "layout": "IPY_MODEL_1e1095f6617b4e65bd7a2e6ab680af5e"
          }
        },
        "051c1bd9110c4cd98395fa940aa07f4d": {
          "model_module": "@jupyter-widgets/controls",
          "model_name": "HTMLModel",
          "model_module_version": "1.5.0",
          "state": {
            "_dom_classes": [],
            "_model_module": "@jupyter-widgets/controls",
            "_model_module_version": "1.5.0",
            "_model_name": "HTMLModel",
            "_view_count": null,
            "_view_module": "@jupyter-widgets/controls",
            "_view_module_version": "1.5.0",
            "_view_name": "HTMLView",
            "description": "",
            "description_tooltip": null,
            "layout": "IPY_MODEL_21978ea8eaf34a269ca4a96b57cb30dc",
            "placeholder": "​",
            "style": "IPY_MODEL_90348129f4654cb8893a54e5d422f6b2",
            "value": "Downloading: 100%"
          }
        },
        "6914b81da54546d3b1bd30ac18588c0f": {
          "model_module": "@jupyter-widgets/controls",
          "model_name": "FloatProgressModel",
          "model_module_version": "1.5.0",
          "state": {
            "_dom_classes": [],
            "_model_module": "@jupyter-widgets/controls",
            "_model_module_version": "1.5.0",
            "_model_name": "FloatProgressModel",
            "_view_count": null,
            "_view_module": "@jupyter-widgets/controls",
            "_view_module_version": "1.5.0",
            "_view_name": "ProgressView",
            "bar_style": "success",
            "description": "",
            "description_tooltip": null,
            "layout": "IPY_MODEL_3326a0a43d024880bb98617b3f8d44f5",
            "max": 44,
            "min": 0,
            "orientation": "horizontal",
            "style": "IPY_MODEL_9bba7530b00c40058f520f6095f4e223",
            "value": 44
          }
        },
        "6a1c369637d94f58a9b3631d0ac959c0": {
          "model_module": "@jupyter-widgets/controls",
          "model_name": "HTMLModel",
          "model_module_version": "1.5.0",
          "state": {
            "_dom_classes": [],
            "_model_module": "@jupyter-widgets/controls",
            "_model_module_version": "1.5.0",
            "_model_name": "HTMLModel",
            "_view_count": null,
            "_view_module": "@jupyter-widgets/controls",
            "_view_module_version": "1.5.0",
            "_view_name": "HTMLView",
            "description": "",
            "description_tooltip": null,
            "layout": "IPY_MODEL_8adfaa68ede84e6186ea6465cbe94512",
            "placeholder": "​",
            "style": "IPY_MODEL_5914beefdcca4ed39334d4f0668cc564",
            "value": " 44.0/44.0 [00:00&lt;00:00, 507B/s]"
          }
        },
        "1e1095f6617b4e65bd7a2e6ab680af5e": {
          "model_module": "@jupyter-widgets/base",
          "model_name": "LayoutModel",
          "model_module_version": "1.2.0",
          "state": {
            "_model_module": "@jupyter-widgets/base",
            "_model_module_version": "1.2.0",
            "_model_name": "LayoutModel",
            "_view_count": null,
            "_view_module": "@jupyter-widgets/base",
            "_view_module_version": "1.2.0",
            "_view_name": "LayoutView",
            "align_content": null,
            "align_items": null,
            "align_self": null,
            "border": null,
            "bottom": null,
            "display": null,
            "flex": null,
            "flex_flow": null,
            "grid_area": null,
            "grid_auto_columns": null,
            "grid_auto_flow": null,
            "grid_auto_rows": null,
            "grid_column": null,
            "grid_gap": null,
            "grid_row": null,
            "grid_template_areas": null,
            "grid_template_columns": null,
            "grid_template_rows": null,
            "height": null,
            "justify_content": null,
            "justify_items": null,
            "left": null,
            "margin": null,
            "max_height": null,
            "max_width": null,
            "min_height": null,
            "min_width": null,
            "object_fit": null,
            "object_position": null,
            "order": null,
            "overflow": null,
            "overflow_x": null,
            "overflow_y": null,
            "padding": null,
            "right": null,
            "top": null,
            "visibility": null,
            "width": null
          }
        },
        "21978ea8eaf34a269ca4a96b57cb30dc": {
          "model_module": "@jupyter-widgets/base",
          "model_name": "LayoutModel",
          "model_module_version": "1.2.0",
          "state": {
            "_model_module": "@jupyter-widgets/base",
            "_model_module_version": "1.2.0",
            "_model_name": "LayoutModel",
            "_view_count": null,
            "_view_module": "@jupyter-widgets/base",
            "_view_module_version": "1.2.0",
            "_view_name": "LayoutView",
            "align_content": null,
            "align_items": null,
            "align_self": null,
            "border": null,
            "bottom": null,
            "display": null,
            "flex": null,
            "flex_flow": null,
            "grid_area": null,
            "grid_auto_columns": null,
            "grid_auto_flow": null,
            "grid_auto_rows": null,
            "grid_column": null,
            "grid_gap": null,
            "grid_row": null,
            "grid_template_areas": null,
            "grid_template_columns": null,
            "grid_template_rows": null,
            "height": null,
            "justify_content": null,
            "justify_items": null,
            "left": null,
            "margin": null,
            "max_height": null,
            "max_width": null,
            "min_height": null,
            "min_width": null,
            "object_fit": null,
            "object_position": null,
            "order": null,
            "overflow": null,
            "overflow_x": null,
            "overflow_y": null,
            "padding": null,
            "right": null,
            "top": null,
            "visibility": null,
            "width": null
          }
        },
        "90348129f4654cb8893a54e5d422f6b2": {
          "model_module": "@jupyter-widgets/controls",
          "model_name": "DescriptionStyleModel",
          "model_module_version": "1.5.0",
          "state": {
            "_model_module": "@jupyter-widgets/controls",
            "_model_module_version": "1.5.0",
            "_model_name": "DescriptionStyleModel",
            "_view_count": null,
            "_view_module": "@jupyter-widgets/base",
            "_view_module_version": "1.2.0",
            "_view_name": "StyleView",
            "description_width": ""
          }
        },
        "3326a0a43d024880bb98617b3f8d44f5": {
          "model_module": "@jupyter-widgets/base",
          "model_name": "LayoutModel",
          "model_module_version": "1.2.0",
          "state": {
            "_model_module": "@jupyter-widgets/base",
            "_model_module_version": "1.2.0",
            "_model_name": "LayoutModel",
            "_view_count": null,
            "_view_module": "@jupyter-widgets/base",
            "_view_module_version": "1.2.0",
            "_view_name": "LayoutView",
            "align_content": null,
            "align_items": null,
            "align_self": null,
            "border": null,
            "bottom": null,
            "display": null,
            "flex": null,
            "flex_flow": null,
            "grid_area": null,
            "grid_auto_columns": null,
            "grid_auto_flow": null,
            "grid_auto_rows": null,
            "grid_column": null,
            "grid_gap": null,
            "grid_row": null,
            "grid_template_areas": null,
            "grid_template_columns": null,
            "grid_template_rows": null,
            "height": null,
            "justify_content": null,
            "justify_items": null,
            "left": null,
            "margin": null,
            "max_height": null,
            "max_width": null,
            "min_height": null,
            "min_width": null,
            "object_fit": null,
            "object_position": null,
            "order": null,
            "overflow": null,
            "overflow_x": null,
            "overflow_y": null,
            "padding": null,
            "right": null,
            "top": null,
            "visibility": null,
            "width": null
          }
        },
        "9bba7530b00c40058f520f6095f4e223": {
          "model_module": "@jupyter-widgets/controls",
          "model_name": "ProgressStyleModel",
          "model_module_version": "1.5.0",
          "state": {
            "_model_module": "@jupyter-widgets/controls",
            "_model_module_version": "1.5.0",
            "_model_name": "ProgressStyleModel",
            "_view_count": null,
            "_view_module": "@jupyter-widgets/base",
            "_view_module_version": "1.2.0",
            "_view_name": "StyleView",
            "bar_color": null,
            "description_width": ""
          }
        },
        "8adfaa68ede84e6186ea6465cbe94512": {
          "model_module": "@jupyter-widgets/base",
          "model_name": "LayoutModel",
          "model_module_version": "1.2.0",
          "state": {
            "_model_module": "@jupyter-widgets/base",
            "_model_module_version": "1.2.0",
            "_model_name": "LayoutModel",
            "_view_count": null,
            "_view_module": "@jupyter-widgets/base",
            "_view_module_version": "1.2.0",
            "_view_name": "LayoutView",
            "align_content": null,
            "align_items": null,
            "align_self": null,
            "border": null,
            "bottom": null,
            "display": null,
            "flex": null,
            "flex_flow": null,
            "grid_area": null,
            "grid_auto_columns": null,
            "grid_auto_flow": null,
            "grid_auto_rows": null,
            "grid_column": null,
            "grid_gap": null,
            "grid_row": null,
            "grid_template_areas": null,
            "grid_template_columns": null,
            "grid_template_rows": null,
            "height": null,
            "justify_content": null,
            "justify_items": null,
            "left": null,
            "margin": null,
            "max_height": null,
            "max_width": null,
            "min_height": null,
            "min_width": null,
            "object_fit": null,
            "object_position": null,
            "order": null,
            "overflow": null,
            "overflow_x": null,
            "overflow_y": null,
            "padding": null,
            "right": null,
            "top": null,
            "visibility": null,
            "width": null
          }
        },
        "5914beefdcca4ed39334d4f0668cc564": {
          "model_module": "@jupyter-widgets/controls",
          "model_name": "DescriptionStyleModel",
          "model_module_version": "1.5.0",
          "state": {
            "_model_module": "@jupyter-widgets/controls",
            "_model_module_version": "1.5.0",
            "_model_name": "DescriptionStyleModel",
            "_view_count": null,
            "_view_module": "@jupyter-widgets/base",
            "_view_module_version": "1.2.0",
            "_view_name": "StyleView",
            "description_width": ""
          }
        },
        "1742a6f4e5144a84b51f98a49864de94": {
          "model_module": "@jupyter-widgets/controls",
          "model_name": "HBoxModel",
          "model_module_version": "1.5.0",
          "state": {
            "_dom_classes": [],
            "_model_module": "@jupyter-widgets/controls",
            "_model_module_version": "1.5.0",
            "_model_name": "HBoxModel",
            "_view_count": null,
            "_view_module": "@jupyter-widgets/controls",
            "_view_module_version": "1.5.0",
            "_view_name": "HBoxView",
            "box_style": "",
            "children": [
              "IPY_MODEL_4c80b26db67147ea864b855a55b3df28",
              "IPY_MODEL_0cbed580dd914b9f9c4f04d30133a10b",
              "IPY_MODEL_2263e148e4fa4f92a5302e6ff2680787"
            ],
            "layout": "IPY_MODEL_01b8a9f100584f78b6f15bc21aedbb81"
          }
        },
        "4c80b26db67147ea864b855a55b3df28": {
          "model_module": "@jupyter-widgets/controls",
          "model_name": "HTMLModel",
          "model_module_version": "1.5.0",
          "state": {
            "_dom_classes": [],
            "_model_module": "@jupyter-widgets/controls",
            "_model_module_version": "1.5.0",
            "_model_name": "HTMLModel",
            "_view_count": null,
            "_view_module": "@jupyter-widgets/controls",
            "_view_module_version": "1.5.0",
            "_view_name": "HTMLView",
            "description": "",
            "description_tooltip": null,
            "layout": "IPY_MODEL_bc83973b52a14eceaa433b3346901599",
            "placeholder": "​",
            "style": "IPY_MODEL_e3c5ce6cc2924cfcbf613fdde67c292e",
            "value": "Downloading: 100%"
          }
        },
        "0cbed580dd914b9f9c4f04d30133a10b": {
          "model_module": "@jupyter-widgets/controls",
          "model_name": "FloatProgressModel",
          "model_module_version": "1.5.0",
          "state": {
            "_dom_classes": [],
            "_model_module": "@jupyter-widgets/controls",
            "_model_module_version": "1.5.0",
            "_model_name": "FloatProgressModel",
            "_view_count": null,
            "_view_module": "@jupyter-widgets/controls",
            "_view_module_version": "1.5.0",
            "_view_name": "ProgressView",
            "bar_style": "success",
            "description": "",
            "description_tooltip": null,
            "layout": "IPY_MODEL_d0a4c796464b418bb795b2d4272ed13d",
            "max": 312087009,
            "min": 0,
            "orientation": "horizontal",
            "style": "IPY_MODEL_50b2ebb1cda8411d9134fa689c17cf26",
            "value": 312087009
          }
        },
        "2263e148e4fa4f92a5302e6ff2680787": {
          "model_module": "@jupyter-widgets/controls",
          "model_name": "HTMLModel",
          "model_module_version": "1.5.0",
          "state": {
            "_dom_classes": [],
            "_model_module": "@jupyter-widgets/controls",
            "_model_module_version": "1.5.0",
            "_model_name": "HTMLModel",
            "_view_count": null,
            "_view_module": "@jupyter-widgets/controls",
            "_view_module_version": "1.5.0",
            "_view_name": "HTMLView",
            "description": "",
            "description_tooltip": null,
            "layout": "IPY_MODEL_143fd7d7706e4b758c6d2e19cd27db87",
            "placeholder": "​",
            "style": "IPY_MODEL_5ba0ae3099ed40d3a9c4be564747c16e",
            "value": " 312M/312M [00:12&lt;00:00, 31.8MB/s]"
          }
        },
        "01b8a9f100584f78b6f15bc21aedbb81": {
          "model_module": "@jupyter-widgets/base",
          "model_name": "LayoutModel",
          "model_module_version": "1.2.0",
          "state": {
            "_model_module": "@jupyter-widgets/base",
            "_model_module_version": "1.2.0",
            "_model_name": "LayoutModel",
            "_view_count": null,
            "_view_module": "@jupyter-widgets/base",
            "_view_module_version": "1.2.0",
            "_view_name": "LayoutView",
            "align_content": null,
            "align_items": null,
            "align_self": null,
            "border": null,
            "bottom": null,
            "display": null,
            "flex": null,
            "flex_flow": null,
            "grid_area": null,
            "grid_auto_columns": null,
            "grid_auto_flow": null,
            "grid_auto_rows": null,
            "grid_column": null,
            "grid_gap": null,
            "grid_row": null,
            "grid_template_areas": null,
            "grid_template_columns": null,
            "grid_template_rows": null,
            "height": null,
            "justify_content": null,
            "justify_items": null,
            "left": null,
            "margin": null,
            "max_height": null,
            "max_width": null,
            "min_height": null,
            "min_width": null,
            "object_fit": null,
            "object_position": null,
            "order": null,
            "overflow": null,
            "overflow_x": null,
            "overflow_y": null,
            "padding": null,
            "right": null,
            "top": null,
            "visibility": null,
            "width": null
          }
        },
        "bc83973b52a14eceaa433b3346901599": {
          "model_module": "@jupyter-widgets/base",
          "model_name": "LayoutModel",
          "model_module_version": "1.2.0",
          "state": {
            "_model_module": "@jupyter-widgets/base",
            "_model_module_version": "1.2.0",
            "_model_name": "LayoutModel",
            "_view_count": null,
            "_view_module": "@jupyter-widgets/base",
            "_view_module_version": "1.2.0",
            "_view_name": "LayoutView",
            "align_content": null,
            "align_items": null,
            "align_self": null,
            "border": null,
            "bottom": null,
            "display": null,
            "flex": null,
            "flex_flow": null,
            "grid_area": null,
            "grid_auto_columns": null,
            "grid_auto_flow": null,
            "grid_auto_rows": null,
            "grid_column": null,
            "grid_gap": null,
            "grid_row": null,
            "grid_template_areas": null,
            "grid_template_columns": null,
            "grid_template_rows": null,
            "height": null,
            "justify_content": null,
            "justify_items": null,
            "left": null,
            "margin": null,
            "max_height": null,
            "max_width": null,
            "min_height": null,
            "min_width": null,
            "object_fit": null,
            "object_position": null,
            "order": null,
            "overflow": null,
            "overflow_x": null,
            "overflow_y": null,
            "padding": null,
            "right": null,
            "top": null,
            "visibility": null,
            "width": null
          }
        },
        "e3c5ce6cc2924cfcbf613fdde67c292e": {
          "model_module": "@jupyter-widgets/controls",
          "model_name": "DescriptionStyleModel",
          "model_module_version": "1.5.0",
          "state": {
            "_model_module": "@jupyter-widgets/controls",
            "_model_module_version": "1.5.0",
            "_model_name": "DescriptionStyleModel",
            "_view_count": null,
            "_view_module": "@jupyter-widgets/base",
            "_view_module_version": "1.2.0",
            "_view_name": "StyleView",
            "description_width": ""
          }
        },
        "d0a4c796464b418bb795b2d4272ed13d": {
          "model_module": "@jupyter-widgets/base",
          "model_name": "LayoutModel",
          "model_module_version": "1.2.0",
          "state": {
            "_model_module": "@jupyter-widgets/base",
            "_model_module_version": "1.2.0",
            "_model_name": "LayoutModel",
            "_view_count": null,
            "_view_module": "@jupyter-widgets/base",
            "_view_module_version": "1.2.0",
            "_view_name": "LayoutView",
            "align_content": null,
            "align_items": null,
            "align_self": null,
            "border": null,
            "bottom": null,
            "display": null,
            "flex": null,
            "flex_flow": null,
            "grid_area": null,
            "grid_auto_columns": null,
            "grid_auto_flow": null,
            "grid_auto_rows": null,
            "grid_column": null,
            "grid_gap": null,
            "grid_row": null,
            "grid_template_areas": null,
            "grid_template_columns": null,
            "grid_template_rows": null,
            "height": null,
            "justify_content": null,
            "justify_items": null,
            "left": null,
            "margin": null,
            "max_height": null,
            "max_width": null,
            "min_height": null,
            "min_width": null,
            "object_fit": null,
            "object_position": null,
            "order": null,
            "overflow": null,
            "overflow_x": null,
            "overflow_y": null,
            "padding": null,
            "right": null,
            "top": null,
            "visibility": null,
            "width": null
          }
        },
        "50b2ebb1cda8411d9134fa689c17cf26": {
          "model_module": "@jupyter-widgets/controls",
          "model_name": "ProgressStyleModel",
          "model_module_version": "1.5.0",
          "state": {
            "_model_module": "@jupyter-widgets/controls",
            "_model_module_version": "1.5.0",
            "_model_name": "ProgressStyleModel",
            "_view_count": null,
            "_view_module": "@jupyter-widgets/base",
            "_view_module_version": "1.2.0",
            "_view_name": "StyleView",
            "bar_color": null,
            "description_width": ""
          }
        },
        "143fd7d7706e4b758c6d2e19cd27db87": {
          "model_module": "@jupyter-widgets/base",
          "model_name": "LayoutModel",
          "model_module_version": "1.2.0",
          "state": {
            "_model_module": "@jupyter-widgets/base",
            "_model_module_version": "1.2.0",
            "_model_name": "LayoutModel",
            "_view_count": null,
            "_view_module": "@jupyter-widgets/base",
            "_view_module_version": "1.2.0",
            "_view_name": "LayoutView",
            "align_content": null,
            "align_items": null,
            "align_self": null,
            "border": null,
            "bottom": null,
            "display": null,
            "flex": null,
            "flex_flow": null,
            "grid_area": null,
            "grid_auto_columns": null,
            "grid_auto_flow": null,
            "grid_auto_rows": null,
            "grid_column": null,
            "grid_gap": null,
            "grid_row": null,
            "grid_template_areas": null,
            "grid_template_columns": null,
            "grid_template_rows": null,
            "height": null,
            "justify_content": null,
            "justify_items": null,
            "left": null,
            "margin": null,
            "max_height": null,
            "max_width": null,
            "min_height": null,
            "min_width": null,
            "object_fit": null,
            "object_position": null,
            "order": null,
            "overflow": null,
            "overflow_x": null,
            "overflow_y": null,
            "padding": null,
            "right": null,
            "top": null,
            "visibility": null,
            "width": null
          }
        },
        "5ba0ae3099ed40d3a9c4be564747c16e": {
          "model_module": "@jupyter-widgets/controls",
          "model_name": "DescriptionStyleModel",
          "model_module_version": "1.5.0",
          "state": {
            "_model_module": "@jupyter-widgets/controls",
            "_model_module_version": "1.5.0",
            "_model_name": "DescriptionStyleModel",
            "_view_count": null,
            "_view_module": "@jupyter-widgets/base",
            "_view_module_version": "1.2.0",
            "_view_name": "StyleView",
            "description_width": ""
          }
        }
      }
    }
  },
  "cells": [
    {
      "cell_type": "markdown",
      "metadata": {
        "id": "1w8ew706HC5C"
      },
      "source": [
        "# 기계 번역 모델 평가\n",
        "\n",
        "이번 실습에서는 기계 번역 모델을 평가하는 방법에 대해 살펴보겠습니다.\n",
        "\n",
        "기계 번역이란 하나의 언어로 적혀져있는 문장을 다른 언어의 문장으로 번역하는 분야를 뜻합니다.\n",
        "\n",
        "룰에 따라 번역을 하는 단순한 기계 번역부터 딥러닝 모델을 이용한 최신 모델까지 다양하게 있습니다.\n",
        "\n",
        "지난 실습에서는 이러한 기계 번역을 수행하는 딥러닝 모델 중 하나인 RNN 기반의 seq2seq 모델의 학습에 대해 살펴보았습니다.\n",
        "\n",
        "이번 실습에서는 Transformer 기반에 이미 학습이 완료된 모델을 통해 그 결과를 살펴보겠습니다.\n",
        "\n",
        "그리고 해당 모델의 성능이 얼마나 뛰어난지를 살펴보는 모델 평가에 대해 진행하겠습니다."
      ]
    },
    {
      "cell_type": "markdown",
      "metadata": {
        "id": "_UHrrMFW0-Ef"
      },
      "source": [
        "기계 번역 모델의 평가는 기존에 살펴보았던 여러 모델들 평가와는 조금 다릅니다.\n",
        "\n",
        "기존에 보았던 문제들은 classification입니다. \n",
        "\n",
        "즉, 입력으로 들어온 데이터를 보고 미리 정한 클래스 중 가장 적합한 클래스를 선택하는 것입니다.\n",
        "\n",
        "대표적으로 감정 분석의 경우 주어진 텍스트를 보고 긍정, 부정의 클래스를 맞추는 것이지요.\n",
        "\n",
        "이런 경우 그 모델의 평가는 대체로 정확도(accuracy)로 계산합니다.\n",
        "\n",
        "모델이 내놓은 결과인 클래스와 실제 데이터의 결과인 클래스를 비교하여 얼마나 맞추었는지를 살펴보는 것이지요.\n"
      ]
    },
    {
      "cell_type": "markdown",
      "metadata": {
        "id": "m3pcyC_o2Fih"
      },
      "source": [
        "\n",
        "하지만 기계 번역 모델의 경우 모델과 데이터의 결과 모두 단어의 조합인 문장입니다.\n",
        "\n",
        "그렇기에 단순히 정확도로 판단하기에는 어렵습니다.\n",
        "\n",
        "아래 예시를 살펴보겠습니다.\n",
        "\n",
        "- 입력 문장: 오늘 저는 여러분들과 만나게 되어 반갑습니다\n",
        "- 데이터 내 영어 번역 문장: Today I am glad to meet you\n",
        "- 모델의 번역 문장: It is a pleasure to meet you today\n",
        "\n",
        "두 번째 문장과 세 번째 문장 모두 첫 번째 문장에 적합한 번역 문장입니다.\n",
        "\n",
        "하지만 단순히 두 문장이 정확하게 일치하는지를 살펴보게 된다면 첫 번째 단어가 다르기에 0점을 주게 되는 문제가 발생합니다."
      ]
    },
    {
      "cell_type": "markdown",
      "metadata": {
        "id": "2bI4YDqf2SCw"
      },
      "source": [
        "이런 문제를 해결하고자 여러 방법이 제안되었습니다.\n",
        "\n",
        "그 중에서 이번 실습에서는 ROUGE(Recall-Oriented Understudy for Gisting Evaluation)에 대해 살펴보겠습니다."
      ]
    },
    {
      "cell_type": "markdown",
      "metadata": {
        "id": "Qjj7XEd3BuDy"
      },
      "source": [
        "## 학습된 기계 번역 모델 사용\n",
        "\n",
        "ROUGE에 대해 살펴보기에 앞서 먼저 학습된 번역 모델을 살펴보겠습니다.\n",
        "\n",
        "여러 기계 번역 모델이 있지만 그 중에서 한국어-영어 번역 모델을 하나 가져오겠습니다.\n",
        "\n",
        "출처: https://huggingface.co/Helsinki-NLP/opus-mt-ko-en"
      ]
    },
    {
      "cell_type": "markdown",
      "metadata": {
        "id": "ZvdTJtt1CcRU"
      },
      "source": [
        "코드 실행에 필요한 라이브러리를 설치하고 로드합니다."
      ]
    },
    {
      "cell_type": "code",
      "metadata": {
        "id": "2tmTo5O9aHtH",
        "colab": {
          "base_uri": "https://localhost:8080/"
        },
        "outputId": "f060d28e-c61b-4dfc-caad-5e0987980cc0"
      },
      "source": [
        "!pip install torch==1.7.0\n",
        "!pip install transformers==3.5.1"
      ],
      "execution_count": 1,
      "outputs": [
        {
          "output_type": "stream",
          "name": "stdout",
          "text": [
            "Collecting torch==1.7.0\n",
            "  Downloading torch-1.7.0-cp37-cp37m-manylinux1_x86_64.whl (776.7 MB)\n",
            "\u001b[K     |████████████████████████████████| 776.7 MB 4.3 kB/s \n",
            "\u001b[?25hRequirement already satisfied: typing-extensions in /usr/local/lib/python3.7/dist-packages (from torch==1.7.0) (4.2.0)\n",
            "Requirement already satisfied: numpy in /usr/local/lib/python3.7/dist-packages (from torch==1.7.0) (1.21.6)\n",
            "Collecting dataclasses\n",
            "  Downloading dataclasses-0.6-py3-none-any.whl (14 kB)\n",
            "Requirement already satisfied: future in /usr/local/lib/python3.7/dist-packages (from torch==1.7.0) (0.16.0)\n",
            "Installing collected packages: dataclasses, torch\n",
            "  Attempting uninstall: torch\n",
            "    Found existing installation: torch 1.11.0+cu113\n",
            "    Uninstalling torch-1.11.0+cu113:\n",
            "      Successfully uninstalled torch-1.11.0+cu113\n",
            "\u001b[31mERROR: pip's dependency resolver does not currently take into account all the packages that are installed. This behaviour is the source of the following dependency conflicts.\n",
            "torchvision 0.12.0+cu113 requires torch==1.11.0, but you have torch 1.7.0 which is incompatible.\n",
            "torchtext 0.12.0 requires torch==1.11.0, but you have torch 1.7.0 which is incompatible.\n",
            "torchaudio 0.11.0+cu113 requires torch==1.11.0, but you have torch 1.7.0 which is incompatible.\u001b[0m\n",
            "Successfully installed dataclasses-0.6 torch-1.7.0\n",
            "Collecting transformers==3.5.1\n",
            "  Downloading transformers-3.5.1-py3-none-any.whl (1.3 MB)\n",
            "\u001b[K     |████████████████████████████████| 1.3 MB 5.1 MB/s \n",
            "\u001b[?25hRequirement already satisfied: numpy in /usr/local/lib/python3.7/dist-packages (from transformers==3.5.1) (1.21.6)\n",
            "Requirement already satisfied: packaging in /usr/local/lib/python3.7/dist-packages (from transformers==3.5.1) (21.3)\n",
            "Requirement already satisfied: protobuf in /usr/local/lib/python3.7/dist-packages (from transformers==3.5.1) (3.17.3)\n",
            "Collecting sentencepiece==0.1.91\n",
            "  Downloading sentencepiece-0.1.91-cp37-cp37m-manylinux1_x86_64.whl (1.1 MB)\n",
            "\u001b[K     |████████████████████████████████| 1.1 MB 49.5 MB/s \n",
            "\u001b[?25hRequirement already satisfied: requests in /usr/local/lib/python3.7/dist-packages (from transformers==3.5.1) (2.23.0)\n",
            "Requirement already satisfied: regex!=2019.12.17 in /usr/local/lib/python3.7/dist-packages (from transformers==3.5.1) (2019.12.20)\n",
            "Requirement already satisfied: tqdm>=4.27 in /usr/local/lib/python3.7/dist-packages (from transformers==3.5.1) (4.64.0)\n",
            "Requirement already satisfied: filelock in /usr/local/lib/python3.7/dist-packages (from transformers==3.5.1) (3.6.0)\n",
            "Collecting sacremoses\n",
            "  Downloading sacremoses-0.0.53.tar.gz (880 kB)\n",
            "\u001b[K     |████████████████████████████████| 880 kB 60.4 MB/s \n",
            "\u001b[?25hCollecting tokenizers==0.9.3\n",
            "  Downloading tokenizers-0.9.3-cp37-cp37m-manylinux1_x86_64.whl (2.9 MB)\n",
            "\u001b[K     |████████████████████████████████| 2.9 MB 55.8 MB/s \n",
            "\u001b[?25hRequirement already satisfied: pyparsing!=3.0.5,>=2.0.2 in /usr/local/lib/python3.7/dist-packages (from packaging->transformers==3.5.1) (3.0.8)\n",
            "Requirement already satisfied: six>=1.9 in /usr/local/lib/python3.7/dist-packages (from protobuf->transformers==3.5.1) (1.15.0)\n",
            "Requirement already satisfied: urllib3!=1.25.0,!=1.25.1,<1.26,>=1.21.1 in /usr/local/lib/python3.7/dist-packages (from requests->transformers==3.5.1) (1.24.3)\n",
            "Requirement already satisfied: certifi>=2017.4.17 in /usr/local/lib/python3.7/dist-packages (from requests->transformers==3.5.1) (2021.10.8)\n",
            "Requirement already satisfied: idna<3,>=2.5 in /usr/local/lib/python3.7/dist-packages (from requests->transformers==3.5.1) (2.10)\n",
            "Requirement already satisfied: chardet<4,>=3.0.2 in /usr/local/lib/python3.7/dist-packages (from requests->transformers==3.5.1) (3.0.4)\n",
            "Requirement already satisfied: click in /usr/local/lib/python3.7/dist-packages (from sacremoses->transformers==3.5.1) (7.1.2)\n",
            "Requirement already satisfied: joblib in /usr/local/lib/python3.7/dist-packages (from sacremoses->transformers==3.5.1) (1.1.0)\n",
            "Building wheels for collected packages: sacremoses\n",
            "  Building wheel for sacremoses (setup.py) ... \u001b[?25l\u001b[?25hdone\n",
            "  Created wheel for sacremoses: filename=sacremoses-0.0.53-py3-none-any.whl size=895260 sha256=f102b16fe27d540d632173e76fe31228dad2b4e80ff03581fef2179b4e13245d\n",
            "  Stored in directory: /root/.cache/pip/wheels/87/39/dd/a83eeef36d0bf98e7a4d1933a4ad2d660295a40613079bafc9\n",
            "Successfully built sacremoses\n",
            "Installing collected packages: tokenizers, sentencepiece, sacremoses, transformers\n",
            "Successfully installed sacremoses-0.0.53 sentencepiece-0.1.91 tokenizers-0.9.3 transformers-3.5.1\n"
          ]
        }
      ]
    },
    {
      "cell_type": "code",
      "metadata": {
        "id": "RgnaF87tCfhj",
        "colab": {
          "base_uri": "https://localhost:8080/"
        },
        "outputId": "07529ad3-a023-4e13-edcc-ecc158e1b29a"
      },
      "source": [
        "from transformers import AutoTokenizer, AutoModelForSeq2SeqLM\n",
        "import nltk\n",
        "nltk.download('punkt')"
      ],
      "execution_count": 2,
      "outputs": [
        {
          "output_type": "stream",
          "name": "stdout",
          "text": [
            "[nltk_data] Downloading package punkt to /root/nltk_data...\n",
            "[nltk_data]   Unzipping tokenizers/punkt.zip.\n"
          ]
        },
        {
          "output_type": "execute_result",
          "data": {
            "text/plain": [
              "True"
            ]
          },
          "metadata": {},
          "execution_count": 2
        }
      ]
    },
    {
      "cell_type": "markdown",
      "metadata": {
        "id": "IlUeGHEJPZeV"
      },
      "source": [
        "텍스트를 나눌 tokenizer와 학습 모델을 불러옵니다."
      ]
    },
    {
      "cell_type": "code",
      "metadata": {
        "id": "pia7XebEPbS1",
        "colab": {
          "base_uri": "https://localhost:8080/",
          "height": 209,
          "referenced_widgets": [
            "57203b0fb48a4504b0bae6ffe1d2d994",
            "96a0294ef05c48788d1a95e5249f692f",
            "f48817a9a4a949658312436c8359c639",
            "ad4f2b397477412897b45633bdc30363",
            "c8beecac05f94e218517264efae4058b",
            "6c64feccaecd43a48b0ca1c51ebd30d2",
            "8a4a9f32f8734c34bfef16846e75e4e6",
            "e87f290c32c04b97918c9482eaa09623",
            "82ae33a8c57e4468838fc489f92615fd",
            "0c9edb9614b341f398085a6d96fb4420",
            "c570bf3e3e9542cf8a8cd574dd1e914b",
            "719c94c5da094a11b13f52962e8ef885",
            "9696c40a890446a89c0c52d8789ea12d",
            "b85e1448372f433e9db85a562b5f6a00",
            "20907c2b2b7543598b7e1bee8ca6f6ea",
            "bb01d61b7b7945fd94f70e09ad23ba16",
            "666986bac6e643568b11a615a311a97a",
            "7636a69f5d524f539e1e557ed71a2299",
            "3ed075b35d11425a83278bd4d2f3e825",
            "c8ed0f610d78413a8f044024f6ac69e3",
            "fe8c9ae743434063a3a473affb9a94ee",
            "ae622202f6e24d2fac5b622df13acfa9",
            "c15c30e4ddc7440c9f419b831a52dff3",
            "aa32752f488242dabea073b3cdb98792",
            "e6516f043237442892f68cf929d106d4",
            "cd60b9e1a8064537a34fce18988db4d0",
            "cd5673bdb924486ab35a65c39c0fa4db",
            "23fb31c7abe746be8e70322460b14007",
            "d075902eff0d441496492c88bd3629f6",
            "e0923058427643989093cbd1ea46c990",
            "a3cc77ea18814575b9f941ec1073c4f4",
            "4b94b2a87e864768b72269e1906ed57c",
            "2a1fc98b2892440caebdf69c179b2b1d",
            "1666c88bde6e42fa90b4ea126b13bd28",
            "767970d99ada4a15a349caad2d210ea7",
            "1273f4b7d6e7482ea5a477249e128ff8",
            "8ad97463de3a42c8b861c23180b34707",
            "696e6f8d5f5c4fab890b7c658957326c",
            "66e7ebb9d13f4f87b1224bf36f08db37",
            "fa3d1f57fc774c558a3736576543d848",
            "c75730b757d84ba2ab178e7a97f5e523",
            "f22670a91d6a4608b8949c84b78deed0",
            "5341a8016b84497ca6e79dae868c505f",
            "13a6973196764502b230566b95b0eb52",
            "2a90bee5f78848819f1b5d5d8a4f595c",
            "051c1bd9110c4cd98395fa940aa07f4d",
            "6914b81da54546d3b1bd30ac18588c0f",
            "6a1c369637d94f58a9b3631d0ac959c0",
            "1e1095f6617b4e65bd7a2e6ab680af5e",
            "21978ea8eaf34a269ca4a96b57cb30dc",
            "90348129f4654cb8893a54e5d422f6b2",
            "3326a0a43d024880bb98617b3f8d44f5",
            "9bba7530b00c40058f520f6095f4e223",
            "8adfaa68ede84e6186ea6465cbe94512",
            "5914beefdcca4ed39334d4f0668cc564",
            "1742a6f4e5144a84b51f98a49864de94",
            "4c80b26db67147ea864b855a55b3df28",
            "0cbed580dd914b9f9c4f04d30133a10b",
            "2263e148e4fa4f92a5302e6ff2680787",
            "01b8a9f100584f78b6f15bc21aedbb81",
            "bc83973b52a14eceaa433b3346901599",
            "e3c5ce6cc2924cfcbf613fdde67c292e",
            "d0a4c796464b418bb795b2d4272ed13d",
            "50b2ebb1cda8411d9134fa689c17cf26",
            "143fd7d7706e4b758c6d2e19cd27db87",
            "5ba0ae3099ed40d3a9c4be564747c16e"
          ]
        },
        "outputId": "9463ce70-e96f-414d-aca7-ccffffd6048c"
      },
      "source": [
        "ko_tokenizer = AutoTokenizer.from_pretrained(\"Helsinki-NLP/opus-mt-ko-en\")\n",
        "\n",
        "mt_model = AutoModelForSeq2SeqLM.from_pretrained(\"Helsinki-NLP/opus-mt-ko-en\")"
      ],
      "execution_count": 3,
      "outputs": [
        {
          "output_type": "display_data",
          "data": {
            "text/plain": [
              "Downloading:   0%|          | 0.00/1.15k [00:00<?, ?B/s]"
            ],
            "application/vnd.jupyter.widget-view+json": {
              "version_major": 2,
              "version_minor": 0,
              "model_id": "57203b0fb48a4504b0bae6ffe1d2d994"
            }
          },
          "metadata": {}
        },
        {
          "output_type": "display_data",
          "data": {
            "text/plain": [
              "Downloading:   0%|          | 0.00/842k [00:00<?, ?B/s]"
            ],
            "application/vnd.jupyter.widget-view+json": {
              "version_major": 2,
              "version_minor": 0,
              "model_id": "719c94c5da094a11b13f52962e8ef885"
            }
          },
          "metadata": {}
        },
        {
          "output_type": "display_data",
          "data": {
            "text/plain": [
              "Downloading:   0%|          | 0.00/813k [00:00<?, ?B/s]"
            ],
            "application/vnd.jupyter.widget-view+json": {
              "version_major": 2,
              "version_minor": 0,
              "model_id": "c15c30e4ddc7440c9f419b831a52dff3"
            }
          },
          "metadata": {}
        },
        {
          "output_type": "display_data",
          "data": {
            "text/plain": [
              "Downloading:   0%|          | 0.00/1.72M [00:00<?, ?B/s]"
            ],
            "application/vnd.jupyter.widget-view+json": {
              "version_major": 2,
              "version_minor": 0,
              "model_id": "1666c88bde6e42fa90b4ea126b13bd28"
            }
          },
          "metadata": {}
        },
        {
          "output_type": "display_data",
          "data": {
            "text/plain": [
              "Downloading:   0%|          | 0.00/44.0 [00:00<?, ?B/s]"
            ],
            "application/vnd.jupyter.widget-view+json": {
              "version_major": 2,
              "version_minor": 0,
              "model_id": "2a90bee5f78848819f1b5d5d8a4f595c"
            }
          },
          "metadata": {}
        },
        {
          "output_type": "display_data",
          "data": {
            "text/plain": [
              "Downloading:   0%|          | 0.00/312M [00:00<?, ?B/s]"
            ],
            "application/vnd.jupyter.widget-view+json": {
              "version_major": 2,
              "version_minor": 0,
              "model_id": "1742a6f4e5144a84b51f98a49864de94"
            }
          },
          "metadata": {}
        }
      ]
    },
    {
      "cell_type": "markdown",
      "metadata": {
        "id": "f0C0fY54ZDmU"
      },
      "source": [
        "불러온 모델을 가지고 번역을 진행해보겠습니다."
      ]
    },
    {
      "cell_type": "code",
      "metadata": {
        "id": "xH-Goaky8J5w",
        "colab": {
          "base_uri": "https://localhost:8080/"
        },
        "outputId": "ad9c221b-cee3-43ec-e26b-6114bf60ca48"
      },
      "source": [
        "text1 = \"대한민국은 민주공화국이다\"\n",
        "text2 = \"대한민국의 주권은 국민에게 있고 모든 권력은 국민으로부터 나온다\"\n",
        "tokenized_text = ko_tokenizer.prepare_seq2seq_batch([text1, text2])\n",
        "\n",
        "translation = mt_model.generate(**tokenized_text)\n",
        "translated_text = ko_tokenizer.batch_decode(translation, skip_special_tokens=True)\n",
        "\n",
        "print(translated_text)"
      ],
      "execution_count": 4,
      "outputs": [
        {
          "output_type": "stream",
          "name": "stdout",
          "text": [
            "['South Korea is the Democratic Republic.', \"South Korea's sovereignty comes from the people, and all power comes from the people.\"]\n"
          ]
        }
      ]
    },
    {
      "cell_type": "markdown",
      "metadata": {
        "id": "Xq7AfgBi4Tgo"
      },
      "source": [
        "결과가 나름 깔끔하게 잘 나오는 것을 알 수 있습니다."
      ]
    },
    {
      "cell_type": "markdown",
      "metadata": {
        "id": "4ZhhZRkJChKT"
      },
      "source": [
        "## ROUGE\n",
        "\n",
        "이제 이렇게 학습된 모델을 평가하도록 하겠습니다.\n",
        "\n",
        "평가 방법은 ROUGE입니다.\n",
        "\n",
        "ROUGE는 원래 텍스트 요약에 제안된 평가 방법입니다. \n",
        "\n",
        "요약은 긴 글을 짧은 문장으로 바꾸는 문제로 데이터에는 실제 정답 요약문이 있습니다. 그리고 모델은 긴 글을 입력으로 받아 짧은 요약문을 만듭니다. 그러면 ROUGE는 정답 요약문과 생성된 요약문을 비교하여 그 유사도를 계산합니다.\n",
        "\n",
        "이러한 접근법은 기계 번역에서도 유사합니다.\n",
        "\n",
        "기계 번역 역시 실제 정답 문장이 있고 모델이 번역한 문장이 있습니다. 그리고 이 둘이 얼마나 유사한지를 계산하면 됩니다.\n",
        "\n",
        "ROUGE는 이처럼 두 문장의 유사도를 계산하는 방법이라고 보시면 됩니다."
      ]
    },
    {
      "cell_type": "markdown",
      "metadata": {
        "id": "YLVIJZaL5HjG"
      },
      "source": [
        "ROUGE 알고리즘은 기본적으로 두 문장의 단어가 겹치는 부분을 계산합니다.\n",
        "\n",
        "- 입력 문장: 오늘 저는 여러분들과 만나게 되어 반갑습니다\n",
        "- 정답 문장: Today I am glad to meet you\n",
        "- 번역 문장: It is a pleasure to meet you today\n",
        "\n",
        "위의 예시에서 정답 문장과 번역 문장을 비교하면 우리는 두 문장 내 단어가 얼마나 겹치는지를 살펴보면서 유사도를 계산할 수 있습니다.\n",
        "\n",
        "`to`, `meet`, `you` 단어 3개가 두 문장 내에 나타나는 것을 알 수 있습니다.\n",
        "\n",
        "그리고 번역 문장에서 단어의 개수는 총 8개입니다.\n",
        "\n",
        "그렇다면 8개 단어를 모델이 만들었고 그 중 3개가 정답 문장에 있는 것이니 $3/8=0.375$의 수치로 모델 성능을 평가할 수 있습니다.\n",
        "\n",
        "이렇게 계산한 값을 `precision`이라고 합니다."
      ]
    },
    {
      "cell_type": "markdown",
      "metadata": {
        "id": "Dy9MnO6e8Dbs"
      },
      "source": [
        "하지만 이것만이 중요할까요?\n",
        "\n",
        "반대로 정답 문장에 있는 단어들을 모델이 얼마나 찾아내어 이를 생성하였는지 중요합니다.\n",
        "\n",
        "즉, 정답 문장 내 7개 단어들 중 모델은 총 3개를 만들었기에 $3/7=0.428$의 수치 역시 모델 성능을 평가할 수 있습니다.\n",
        "\n",
        "이렇게 계산한 값을 `recall`이라고 합니다."
      ]
    },
    {
      "cell_type": "markdown",
      "metadata": {
        "id": "-gXrCCmk8jzI"
      },
      "source": [
        "이렇게 `precision`과 `recall`은 각각 ROUGE를 통해 계산한 모델의 성능 수치입니다.\n",
        "\n",
        "이 둘을 모아서 하나의 값으로 보고 싶을 수 있습니다.\n",
        "\n",
        "그럴 때 우리는 이 둘의 조화 평균값을 구합니다.\n",
        "\n",
        "$$F = \\frac{2 \\times P \\times R}{P + R}$$\n",
        "\n",
        "$P$: `precision`, $R$: `recall`, $F$: `F score`\n",
        "\n",
        "이렇게 계산한 값을 `F score` 이라고 부릅니다.\n",
        "\n",
        "Tip) 가끔 `precision`과 `recall` 모두 0이 되는 경우가 있습니다. 즉, 두 문장에 아무것도 겹치는 단어가 없는 경우입니다. 이럴 때 `F score`를 계산해버리면 분모가 0이 되어 문제가 됩니다. 이를 해결하기 위해 아주 작은 값을 분모에 더하면 이런 문제를 방지할 수 있습니다."
      ]
    },
    {
      "cell_type": "markdown",
      "metadata": {
        "id": "wWy9vxSo93XU"
      },
      "source": [
        "ROUGE는 이처럼 겹치는 단어만을 보고 모델의 성능을 평가하지 않습니다.\n",
        "\n",
        "아래와 같은 예시를 보겠습니다.\n",
        "\n",
        "- 입력 문장: 오늘 저는 여러분들과 만나게 되어 반갑습니다\n",
        "- 정답 문장: Today I am glad to meet you\n",
        "- 번역 문장1: It is a pleasure to meet you today\n",
        "- 번역 문장2: It a to today meet pleasure is you \n",
        "\n",
        "번역 문장 1과 2는 단어는 같지만 그 순서가 다릅니다.\n",
        "\n",
        "그리고 문장 2는 좋지 못한 번역 문장임을 알 수 있습니다.\n",
        "\n",
        "하지만 단어만으로 ROUGE를 계산하게 된다면 번역 문장 1과 2는 동일한 값을 가지는 문제가 있습니다.\n",
        "\n",
        "이를 해결하기 위해서는 어떻게 해야할까요?\n",
        "\n",
        "단어의 순서를 고려하는 방법 중 하나가 바로 n-gram입니다.\n",
        "\n",
        "n-gram은 주어진 n개의 단어를 하나의 단위로 묶어서 살펴보는 방법입니다.\n",
        "\n",
        "n이 1인 경우는 unigram이라 불리어 단어 하나씩 보는 경우를 뜻합니다.\n",
        "\n",
        "n이 2인 경우는 bigram이라 불리어 연속된 두 단어를 하나로 묶어 살펴봅니다.\n",
        "\n",
        "예를 들어 정답 문장의 bigram을 구하면 아래와 같습니다.\n",
        "\n",
        "- Today I\n",
        "- I am\n",
        "- am glad\n",
        "- glad to\n",
        "- to meet\n",
        "- meet you\n",
        "\n",
        "번역 문장1의 bigram을 구하면 아래와 같습니다.\n",
        "- It is\n",
        "- is a\n",
        "- a pleasure\n",
        "- pleasure to\n",
        "- to meet\n",
        "- meet you\n",
        "- you today\n",
        "\n",
        "번역 문장2의 bigram을 구하면 아래와 같습니다.\n",
        "- It a\n",
        "- a to\n",
        "- to today\n",
        "- today meet\n",
        "- meet pleasure\n",
        "- pleasure is\n",
        "- is you\n",
        "\n",
        "이렇게 bigram으로 token을 만든 후 비교해보면 정답 문장과 번역 문장1은 2개가 겹칩니다.\n",
        "\n",
        "하지만 정답 문장과 번역 문장2는 하나도 겹치는 bigram token이 없습니다. 즉, ROUGE precision, recall, F score 모두 0의 값입니다.\n",
        "\n",
        "이를 통해 번역 문장1이 번역 문장2보다는 좋은 문장임을 알 수 있습니다."
      ]
    },
    {
      "cell_type": "markdown",
      "metadata": {
        "id": "jZazt7Nu_slb"
      },
      "source": [
        "이번 실습에서는 ROUGE를 직접 구현하도록 하겠습니다.\n",
        "\n",
        "ROUGE에는 여러 기법이 있지만 그 중 n-gram을 사용한 방법을 소개하였고 이를 구현하겠습니다."
      ]
    },
    {
      "cell_type": "markdown",
      "metadata": {
        "id": "7QQOuUJo600a"
      },
      "source": [
        "### unigram\n",
        "\n",
        "- 문제 1. unigram을 만드는 함수를 작성해주세요.\n",
        "  - 문장(sentence)와 토크나이저(tokenizer)를 입력으로 받아 토크나이저를 이용하여 unigram을 만들어주세요.\n",
        "  - 결과는 Python의 set의 형태로 반환해주세요.\n",
        "  - 문장 내 중복으로 나타나는 단어는 한 번 나타난 것으로 취급해주세요.\n",
        "  - `ngram` 함수에서 `n`이 1인 경우와 동일해야합니다. 하지만 해당 함수를 이 함수 내에서 사용하지 마세요.\n",
        "\n"
      ]
    },
    {
      "cell_type": "code",
      "metadata": {
        "id": "hYucrg5wCjyA"
      },
      "source": [
        "def unigram(sentence, tokenizer):\n",
        "    results_unigram = set(tokenizer(sentence))\n",
        "    \n",
        "    # <ToDo>: sentence에서 unigram을 만드세요.\n",
        "    return results_unigram"
      ],
      "execution_count": 5,
      "outputs": []
    },
    {
      "cell_type": "code",
      "source": [
        "en_tokenizer = nltk.word_tokenize\n",
        "print(unigram('Today I am glad to meet you', en_tokenizer))"
      ],
      "metadata": {
        "colab": {
          "base_uri": "https://localhost:8080/"
        },
        "id": "eplS5T_1yWHL",
        "outputId": "620855ea-a3a8-463e-dc14-6de321fba376"
      },
      "execution_count": 8,
      "outputs": [
        {
          "output_type": "stream",
          "name": "stdout",
          "text": [
            "{'I', 'meet', 'you', 'am', 'glad', 'Today', 'to'}\n"
          ]
        }
      ]
    },
    {
      "cell_type": "markdown",
      "metadata": {
        "id": "6G2gx5ot61ZK"
      },
      "source": [
        "### bigram\n",
        "\n",
        "- 문제 2. bigram을 만드는 함수를 작성해주세요.\n",
        "  - 문장(sentence)와 토크나이저(tokenizer)를 입력으로 받아 토크나이저를 이용하여 bigram을 만들어주세요.\n",
        "  - 결과는 Python의 set의 형태로 반환해주세요.\n",
        "  - 중복으로 나타나는 bigram token은 한 번 나타난 것으로 취급해주세요.\n",
        "  - `ngram` 함수에서 `n`이 2인 경우와 동일해야합니다. 하지만 해당 함수를 이 함수 내에서 사용하지 마세요.\n",
        "\n"
      ]
    },
    {
      "cell_type": "code",
      "metadata": {
        "id": "nwSl-eHT61tO"
      },
      "source": [
        "def bigram(sentence, tokenizer):\n",
        "  tokenized_sentence=tokenizer(sentence)\n",
        "  results_bigram = set()\n",
        "  # <ToDo>: sentence에서 bigram을 만드세요.\n",
        "  for i in range(len(tokenized_sentence) - 1):\n",
        "    result = tokenized_sentence[i]+\" \"+tokenized_sentence[i + 1]\n",
        "    results_bigram.add(result)\n",
        "  return results_bigram"
      ],
      "execution_count": 39,
      "outputs": []
    },
    {
      "cell_type": "code",
      "source": [
        "print(bigram('Today I am glad to meet you', en_tokenizer))"
      ],
      "metadata": {
        "colab": {
          "base_uri": "https://localhost:8080/"
        },
        "id": "-XZ7f-AAyy7l",
        "outputId": "14550ed1-2883-4ef3-8c6c-1b9129f311bf"
      },
      "execution_count": 40,
      "outputs": [
        {
          "output_type": "stream",
          "name": "stdout",
          "text": [
            "{'glad to', 'I am', 'to meet', 'Today I', 'am glad', 'meet you'}\n"
          ]
        }
      ]
    },
    {
      "cell_type": "markdown",
      "metadata": {
        "id": "G_q0LEj663eO"
      },
      "source": [
        "### n-gram\n",
        "\n",
        "- 문제 3. n-gram을 만드는 함수를 작성해주세요.\n",
        "  - 문장(sentence)와 토크나이저(tokenizer)를 입력으로 받아 토크나이저를 이용하여 n-gram을 만들어주세요.\n",
        "  - 결과는 Python의 set의 형태로 반환해주세요.\n",
        "  - 중복으로 나타나는 n-gram token은 한 번 나타난 것으로 취급해주세요.\n",
        "  - n이 1일 때와 2일 때는 각각 `unigram`과 `bigram` 함수와 동일한 결과를 출력해야합니다.\n",
        "\n"
      ]
    },
    {
      "cell_type": "code",
      "metadata": {
        "id": "ZQs5KQAZ63vV"
      },
      "source": [
        "from nltk import ngrams\n",
        "def ngram(sentence, tokenizer, n):\n",
        "  # <ToDo>: sentence에서 ngram을 만드세요.\n",
        "  results_ngrams=set()\n",
        "  tokenized_sentence = tokenizer(sentence)\n",
        "  \n",
        "  splited_sentence = ngrams(tokenized_sentence, n)\n",
        "  \n",
        "  for ngram_tuple in splited_sentence:\n",
        "    result=\"\"\n",
        "    for word in ngram_tuple:\n",
        "      result+=word+' '\n",
        "    results_ngrams.add(result.rstrip())\n",
        "  return results_ngrams"
      ],
      "execution_count": 67,
      "outputs": []
    },
    {
      "cell_type": "code",
      "source": [
        "print(ngram('Today I am glad to meet you', en_tokenizer,3))"
      ],
      "metadata": {
        "colab": {
          "base_uri": "https://localhost:8080/"
        },
        "id": "HmAfeOXp0Uoj",
        "outputId": "bac4f34e-53be-41c8-eb76-fc896d016d44"
      },
      "execution_count": 68,
      "outputs": [
        {
          "output_type": "stream",
          "name": "stdout",
          "text": [
            "{'to meet you', 'I am glad', 'glad to meet', 'Today I am', 'am glad to'}\n"
          ]
        }
      ]
    },
    {
      "cell_type": "markdown",
      "metadata": {
        "id": "vHGyTyvL66i6"
      },
      "source": [
        "### ROUGE\n",
        "\n",
        "- 문제 4. ROUGE를 계산하는 함수를 작성해주세요.\n",
        "  - 정답 문장(original_sentence)와 번역 문장(translated_sentence)의 차이를 ROUGE로 계산해주세요.\n",
        "  - 토크나이저(tokenizer)를 통해 단어 토큰을 만들고 n의 크기에 따라 n-gram 토큰을 만드세요.\n",
        "  - 결과는 ROUGE의 precision, recall, F score 세 개를 반환해주세요.\n",
        "  - 가끔 입력 문장이 빈 문장(길이가 0인 문장)일 수 있습니다. 이 때 계산 시 분모가 0이 되는 값이 생길 수 있습니다. 이런 경우 그 값을 0으로 만들어주세요.\n",
        "  - F score 계산 시 분모가 0이 되는 경우를 주의해주세요. (힌트: small_num 값 사용)\n",
        "\n"
      ]
    },
    {
      "cell_type": "code",
      "metadata": {
        "id": "iD4nnH7d66wM"
      },
      "source": [
        "def rouge(original_sentence, translated_sentence, n, tokenizer, small_num=1e-8):\n",
        "    # 입력 문장들을 전부 소문자로 바꿉니다.\n",
        "    original_sentence = original_sentence.lower()\n",
        "    translated_sentence = translated_sentence.lower()\n",
        "\n",
        "    # n의 크기에 따라 함수를 호출합니다.\n",
        "    if n <= 0:\n",
        "        print(\"n은 0보다 커야합니다.\")\n",
        "        return None\n",
        "    elif 1 == n:\n",
        "        original_grams = unigram(original_sentence, tokenizer)\n",
        "        translated_grams = unigram(translated_sentence, tokenizer)\n",
        "    elif 2 == n:\n",
        "        original_grams = bigram(original_sentence, tokenizer)\n",
        "        translated_grams = bigram(translated_sentence, tokenizer)\n",
        "    else:\n",
        "        original_grams = ngram(original_sentence, tokenizer, n)\n",
        "        translated_grams = ngram(translated_sentence, tokenizer, n)\n",
        "\n",
        "    # 찾아낸 gram들의 개수를 셉니다.\n",
        "    original_count = len(original_grams)\n",
        "    translated_count = len(translated_grams)\n",
        "    print('original_grams: ',original_grams)\n",
        "    print('translated_grams:', translated_grams)\n",
        "\n",
        "    # # <ToDo>: 중첩되는 ngrams을 구하세요.\n",
        "    overlapping_ngrams = original_grams&translated_grams\n",
        "    overlapping_count = len(overlapping_ngrams)\n",
        "\n",
        "    # # <ToDo>: precision을 구하세요.\n",
        "    precision = overlapping_count / (translated_count+small_num)\n",
        "\n",
        "    # # <ToDo>: recall을 구하세요.\n",
        "    recall = overlapping_count/(original_count+small_num)\n",
        "\n",
        "    # # <ToDo>: F score를 구하세요.\n",
        "    f_score = 2* precision*recall /(precision+recall+small_num)\n",
        "\n",
        "    return precision, recall, f_score"
      ],
      "execution_count": 83,
      "outputs": []
    },
    {
      "cell_type": "markdown",
      "metadata": {
        "id": "XUKAEB_E68dT"
      },
      "source": [
        "### 실행 코드"
      ]
    },
    {
      "cell_type": "code",
      "metadata": {
        "id": "RhGMFmpV686S",
        "colab": {
          "base_uri": "https://localhost:8080/"
        },
        "outputId": "562bf3d5-56b3-4522-fff3-075f8c9a3da5"
      },
      "source": [
        "# tokenizer는 nltk를 사용합니다.\n",
        "en_tokenizer = nltk.word_tokenize\n",
        "\n",
        "# 예시 문장\n",
        "original_sen = \"Today I am glad to meet you\"\n",
        "translated_sen1 = \"It is a pleasure to meet you today\"\n",
        "translated_sen2 = \"It a to today meet pleasure is you\"\n",
        "\n",
        "# 정답 문장과 번역 문장1을 ROUGE로 비교합니다.\n",
        "print(\"Original: {}\".format(original_sen))\n",
        "print(\"Translated: {}\".format(translated_sen1))\n",
        "\n",
        "p, r, f = rouge(original_sen, translated_sen1, 1, en_tokenizer)\n",
        "print(\"ROUGE unigram: Precision: {:.4f}, Recall: {:.4f}, F score:{:.4f}\".format(p, r, f))\n",
        "\n",
        "p, r, f = rouge(original_sen, translated_sen1, 2, en_tokenizer)\n",
        "print(\"ROUGE bigram: Precision: {:.4f}, Recall: {:.4f}, F score:{:.4f}\".format(p, r, f))\n",
        "\n",
        "p, r, f = rouge(original_sen, translated_sen1, 3, en_tokenizer)\n",
        "print(\"ROUGE trigram(n=3): Precision: {:.4f}, Recall: {:.4f}, F score:{:.4f}\".format(p, r, f))\n",
        "print()\n",
        "\n",
        "# 정답 문장과 번역 문장2를 ROUGE로 비교합니다.\n",
        "print(\"Original: {}\".format(original_sen))\n",
        "print(\"Translated: {}\".format(translated_sen2))\n",
        "\n",
        "p, r, f = rouge(original_sen, translated_sen2, 1, en_tokenizer)\n",
        "print(\"ROUGE unigram: Precision: {:.4f}, Recall: {:.4f}, F score:{:.4f}\".format(p, r, f))\n",
        "\n",
        "p, r, f = rouge(original_sen, translated_sen2, 2, en_tokenizer)\n",
        "print(\"ROUGE bigram: Precision: {:.4f}, Recall: {:.4f}, F score:{:.4f}\".format(p, r, f))\n",
        "\n",
        "p, r, f = rouge(original_sen, translated_sen2, 3, en_tokenizer)\n",
        "print(\"ROUGE trigram(n=3): Precision: {:.4f}, Recall: {:.4f}, F score:{:.4f}\".format(p, r, f))\n",
        "\n"
      ],
      "execution_count": 84,
      "outputs": [
        {
          "output_type": "stream",
          "name": "stdout",
          "text": [
            "Original: Today I am glad to meet you\n",
            "Translated: It is a pleasure to meet you today\n",
            "original_grams:  {'i', 'today', 'meet', 'you', 'am', 'glad', 'to'}\n",
            "translated_grams: {'is', 'a', 'meet', 'you', 'today', 'it', 'pleasure', 'to'}\n",
            "ROUGE unigram: Precision: 0.5000, Recall: 0.5714, F score:0.5333\n",
            "original_grams:  {'glad to', 'to meet', 'today i', 'am glad', 'i am', 'meet you'}\n",
            "translated_grams: {'you today', 'to meet', 'a pleasure', 'is a', 'meet you', 'it is', 'pleasure to'}\n",
            "ROUGE bigram: Precision: 0.2857, Recall: 0.3333, F score:0.3077\n",
            "original_grams:  {'to meet you', 'today i am', 'i am glad', 'glad to meet', 'am glad to'}\n",
            "translated_grams: {'to meet you', 'is a pleasure', 'meet you today', 'pleasure to meet', 'a pleasure to', 'it is a'}\n",
            "ROUGE trigram(n=3): Precision: 0.1667, Recall: 0.2000, F score:0.1818\n",
            "\n",
            "Original: Today I am glad to meet you\n",
            "Translated: It a to today meet pleasure is you\n",
            "original_grams:  {'i', 'today', 'meet', 'you', 'am', 'glad', 'to'}\n",
            "translated_grams: {'is', 'meet', 'a', 'today', 'you', 'it', 'pleasure', 'to'}\n",
            "ROUGE unigram: Precision: 0.5000, Recall: 0.5714, F score:0.5333\n",
            "original_grams:  {'glad to', 'to meet', 'today i', 'am glad', 'i am', 'meet you'}\n",
            "translated_grams: {'a to', 'meet pleasure', 'today meet', 'is you', 'to today', 'it a', 'pleasure is'}\n",
            "ROUGE bigram: Precision: 0.0000, Recall: 0.0000, F score:0.0000\n",
            "original_grams:  {'to meet you', 'today i am', 'i am glad', 'glad to meet', 'am glad to'}\n",
            "translated_grams: {'meet pleasure is', 'to today meet', 'a to today', 'it a to', 'pleasure is you', 'today meet pleasure'}\n",
            "ROUGE trigram(n=3): Precision: 0.0000, Recall: 0.0000, F score:0.0000\n"
          ]
        }
      ]
    },
    {
      "cell_type": "markdown",
      "metadata": {
        "id": "QSDlc7hgHyYQ"
      },
      "source": [
        "ROUGE에도 한계점이 있다는 것을 알 수 있습니다. 대표적으로 'pleasure'와 'glad'는 비슷한 뜻을 지니고 있지만 ROUGE는 이 차이를 무조건 다르다고만 얘기하고 있기 때문입니다. 이러한 단점을 극복하고자 여러 방법이 제안되고 있습니다. 이처럼 NLP 모델의 평가는 현재 많은 연구가 활발하게 이루어지고 있는 연구 분야입니다."
      ]
    }
  ]
}